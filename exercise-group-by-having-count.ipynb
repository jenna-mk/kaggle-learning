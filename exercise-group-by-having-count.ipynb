{
 "cells": [
  {
   "cell_type": "markdown",
   "id": "a9587ffd",
   "metadata": {
    "papermill": {
     "duration": 0.004609,
     "end_time": "2024-08-20T18:23:08.447504",
     "exception": false,
     "start_time": "2024-08-20T18:23:08.442895",
     "status": "completed"
    },
    "tags": []
   },
   "source": [
    "**This notebook is an exercise in the [SQL](https://www.kaggle.com/learn/intro-to-sql) course.  You can reference the tutorial at [this link](https://www.kaggle.com/dansbecker/group-by-having-count).**\n",
    "\n",
    "---\n"
   ]
  },
  {
   "cell_type": "markdown",
   "id": "f6c9420c",
   "metadata": {
    "papermill": {
     "duration": 0.004238,
     "end_time": "2024-08-20T18:23:08.456980",
     "exception": false,
     "start_time": "2024-08-20T18:23:08.452742",
     "status": "completed"
    },
    "tags": []
   },
   "source": [
    "# Introduction\n",
    "\n",
    "Queries with **GROUP BY** can be powerful. There are many small things that can trip you up (like the order of the clauses), but it will start to feel natural once you've done it a few times. Here, you'll write queries using **GROUP BY** to answer questions from the Hacker News dataset.\n",
    "\n",
    "Before you get started, run the following cell to set everything up:"
   ]
  },
  {
   "cell_type": "code",
   "execution_count": 1,
   "id": "db3e076a",
   "metadata": {
    "execution": {
     "iopub.execute_input": "2024-08-20T18:23:08.467349Z",
     "iopub.status.busy": "2024-08-20T18:23:08.466894Z",
     "iopub.status.idle": "2024-08-20T18:23:16.860937Z",
     "shell.execute_reply": "2024-08-20T18:23:16.859626Z"
    },
    "papermill": {
     "duration": 8.402235,
     "end_time": "2024-08-20T18:23:16.863422",
     "exception": false,
     "start_time": "2024-08-20T18:23:08.461187",
     "status": "completed"
    },
    "tags": []
   },
   "outputs": [
    {
     "name": "stdout",
     "output_type": "stream",
     "text": [
      "Using Kaggle's public dataset BigQuery integration.\n",
      "Setup Complete\n"
     ]
    }
   ],
   "source": [
    "# Set up feedback system\n",
    "from learntools.core import binder\n",
    "binder.bind(globals())\n",
    "from learntools.sql.ex3 import *\n",
    "print(\"Setup Complete\")"
   ]
  },
  {
   "cell_type": "markdown",
   "id": "42a0d121",
   "metadata": {
    "papermill": {
     "duration": 0.004109,
     "end_time": "2024-08-20T18:23:16.872668",
     "exception": false,
     "start_time": "2024-08-20T18:23:16.868559",
     "status": "completed"
    },
    "tags": []
   },
   "source": [
    "The code cell below fetches the `full` table from the `hacker_news` dataset.  We also preview the first five rows of the table."
   ]
  },
  {
   "cell_type": "code",
   "execution_count": 2,
   "id": "8cdffc00",
   "metadata": {
    "execution": {
     "iopub.execute_input": "2024-08-20T18:23:16.883258Z",
     "iopub.status.busy": "2024-08-20T18:23:16.882692Z",
     "iopub.status.idle": "2024-08-20T18:23:18.817066Z",
     "shell.execute_reply": "2024-08-20T18:23:18.815893Z"
    },
    "papermill": {
     "duration": 1.942593,
     "end_time": "2024-08-20T18:23:18.819540",
     "exception": false,
     "start_time": "2024-08-20T18:23:16.876947",
     "status": "completed"
    },
    "tags": []
   },
   "outputs": [
    {
     "name": "stdout",
     "output_type": "stream",
     "text": [
      "Using Kaggle's public dataset BigQuery integration.\n"
     ]
    },
    {
     "data": {
      "text/html": [
       "<div>\n",
       "<style scoped>\n",
       "    .dataframe tbody tr th:only-of-type {\n",
       "        vertical-align: middle;\n",
       "    }\n",
       "\n",
       "    .dataframe tbody tr th {\n",
       "        vertical-align: top;\n",
       "    }\n",
       "\n",
       "    .dataframe thead th {\n",
       "        text-align: right;\n",
       "    }\n",
       "</style>\n",
       "<table border=\"1\" class=\"dataframe\">\n",
       "  <thead>\n",
       "    <tr style=\"text-align: right;\">\n",
       "      <th></th>\n",
       "      <th>title</th>\n",
       "      <th>url</th>\n",
       "      <th>text</th>\n",
       "      <th>dead</th>\n",
       "      <th>by</th>\n",
       "      <th>score</th>\n",
       "      <th>time</th>\n",
       "      <th>timestamp</th>\n",
       "      <th>type</th>\n",
       "      <th>id</th>\n",
       "      <th>parent</th>\n",
       "      <th>descendants</th>\n",
       "      <th>ranking</th>\n",
       "      <th>deleted</th>\n",
       "    </tr>\n",
       "  </thead>\n",
       "  <tbody>\n",
       "    <tr>\n",
       "      <th>0</th>\n",
       "      <td>None</td>\n",
       "      <td>None</td>\n",
       "      <td>Yeah, but a movie called \"Jurassic Park\" with ...</td>\n",
       "      <td>None</td>\n",
       "      <td>archangel_one</td>\n",
       "      <td>NaN</td>\n",
       "      <td>1338543359</td>\n",
       "      <td>2012-06-01 09:35:59+00:00</td>\n",
       "      <td>comment</td>\n",
       "      <td>4052658</td>\n",
       "      <td>4050432</td>\n",
       "      <td>NaN</td>\n",
       "      <td>NaN</td>\n",
       "      <td>None</td>\n",
       "    </tr>\n",
       "    <tr>\n",
       "      <th>1</th>\n",
       "      <td>None</td>\n",
       "      <td>None</td>\n",
       "      <td>It was really easy in BBC Basic to drop in som...</td>\n",
       "      <td>None</td>\n",
       "      <td>pja</td>\n",
       "      <td>NaN</td>\n",
       "      <td>1338543049</td>\n",
       "      <td>2012-06-01 09:30:49+00:00</td>\n",
       "      <td>comment</td>\n",
       "      <td>4052651</td>\n",
       "      <td>4052637</td>\n",
       "      <td>NaN</td>\n",
       "      <td>NaN</td>\n",
       "      <td>None</td>\n",
       "    </tr>\n",
       "    <tr>\n",
       "      <th>2</th>\n",
       "      <td>None</td>\n",
       "      <td>None</td>\n",
       "      <td>Lets not forget, when the government does it, ...</td>\n",
       "      <td>True</td>\n",
       "      <td>jkeogh</td>\n",
       "      <td>NaN</td>\n",
       "      <td>1338543016</td>\n",
       "      <td>2012-06-01 09:30:16+00:00</td>\n",
       "      <td>comment</td>\n",
       "      <td>4052650</td>\n",
       "      <td>4052330</td>\n",
       "      <td>NaN</td>\n",
       "      <td>NaN</td>\n",
       "      <td>None</td>\n",
       "    </tr>\n",
       "    <tr>\n",
       "      <th>3</th>\n",
       "      <td>None</td>\n",
       "      <td>None</td>\n",
       "      <td>uint32.</td>\n",
       "      <td>None</td>\n",
       "      <td>Arnt</td>\n",
       "      <td>NaN</td>\n",
       "      <td>1476107890</td>\n",
       "      <td>2016-10-10 13:58:10+00:00</td>\n",
       "      <td>comment</td>\n",
       "      <td>12677099</td>\n",
       "      <td>12676980</td>\n",
       "      <td>NaN</td>\n",
       "      <td>NaN</td>\n",
       "      <td>None</td>\n",
       "    </tr>\n",
       "    <tr>\n",
       "      <th>4</th>\n",
       "      <td>None</td>\n",
       "      <td>None</td>\n",
       "      <td>I often think, on seeing new releases of Micro...</td>\n",
       "      <td>None</td>\n",
       "      <td>archangel_one</td>\n",
       "      <td>NaN</td>\n",
       "      <td>1338543270</td>\n",
       "      <td>2012-06-01 09:34:30+00:00</td>\n",
       "      <td>comment</td>\n",
       "      <td>4052655</td>\n",
       "      <td>4052209</td>\n",
       "      <td>NaN</td>\n",
       "      <td>NaN</td>\n",
       "      <td>None</td>\n",
       "    </tr>\n",
       "  </tbody>\n",
       "</table>\n",
       "</div>"
      ],
      "text/plain": [
       "  title   url                                               text  dead  \\\n",
       "0  None  None  Yeah, but a movie called \"Jurassic Park\" with ...  None   \n",
       "1  None  None  It was really easy in BBC Basic to drop in som...  None   \n",
       "2  None  None  Lets not forget, when the government does it, ...  True   \n",
       "3  None  None                                            uint32.  None   \n",
       "4  None  None  I often think, on seeing new releases of Micro...  None   \n",
       "\n",
       "              by  score        time                 timestamp     type  \\\n",
       "0  archangel_one    NaN  1338543359 2012-06-01 09:35:59+00:00  comment   \n",
       "1            pja    NaN  1338543049 2012-06-01 09:30:49+00:00  comment   \n",
       "2         jkeogh    NaN  1338543016 2012-06-01 09:30:16+00:00  comment   \n",
       "3           Arnt    NaN  1476107890 2016-10-10 13:58:10+00:00  comment   \n",
       "4  archangel_one    NaN  1338543270 2012-06-01 09:34:30+00:00  comment   \n",
       "\n",
       "         id    parent  descendants  ranking deleted  \n",
       "0   4052658   4050432          NaN      NaN    None  \n",
       "1   4052651   4052637          NaN      NaN    None  \n",
       "2   4052650   4052330          NaN      NaN    None  \n",
       "3  12677099  12676980          NaN      NaN    None  \n",
       "4   4052655   4052209          NaN      NaN    None  "
      ]
     },
     "execution_count": 2,
     "metadata": {},
     "output_type": "execute_result"
    }
   ],
   "source": [
    "from google.cloud import bigquery\n",
    "\n",
    "# Create a \"Client\" object\n",
    "client = bigquery.Client()\n",
    "\n",
    "# Construct a reference to the \"hacker_news\" dataset\n",
    "dataset_ref = client.dataset(\"hacker_news\", project=\"bigquery-public-data\")\n",
    "\n",
    "# API request - fetch the dataset\n",
    "dataset = client.get_dataset(dataset_ref)\n",
    "\n",
    "# Construct a reference to the \"full\" table\n",
    "table_ref = dataset_ref.table(\"full\")\n",
    "\n",
    "# API request - fetch the table\n",
    "table = client.get_table(table_ref)\n",
    "\n",
    "# Preview the first five lines of the table\n",
    "client.list_rows(table, max_results=5).to_dataframe()"
   ]
  },
  {
   "cell_type": "code",
   "execution_count": 3,
   "id": "af8234f2",
   "metadata": {
    "execution": {
     "iopub.execute_input": "2024-08-20T18:23:18.831259Z",
     "iopub.status.busy": "2024-08-20T18:23:18.830078Z",
     "iopub.status.idle": "2024-08-20T18:23:18.838341Z",
     "shell.execute_reply": "2024-08-20T18:23:18.837095Z"
    },
    "papermill": {
     "duration": 0.016451,
     "end_time": "2024-08-20T18:23:18.840708",
     "exception": false,
     "start_time": "2024-08-20T18:23:18.824257",
     "status": "completed"
    },
    "tags": []
   },
   "outputs": [
    {
     "data": {
      "text/plain": [
       "[SchemaField('title', 'STRING', 'NULLABLE', 'Story title', (), None),\n",
       " SchemaField('url', 'STRING', 'NULLABLE', 'Story url', (), None),\n",
       " SchemaField('text', 'STRING', 'NULLABLE', 'Story or comment text', (), None),\n",
       " SchemaField('dead', 'BOOLEAN', 'NULLABLE', 'Is dead?', (), None),\n",
       " SchemaField('by', 'STRING', 'NULLABLE', \"The username of the item's author.\", (), None),\n",
       " SchemaField('score', 'INTEGER', 'NULLABLE', 'Story score', (), None),\n",
       " SchemaField('time', 'INTEGER', 'NULLABLE', 'Unix time', (), None),\n",
       " SchemaField('timestamp', 'TIMESTAMP', 'NULLABLE', 'Timestamp for the unix time', (), None),\n",
       " SchemaField('type', 'STRING', 'NULLABLE', 'type of details (comment comment_ranking poll story job pollopt)', (), None),\n",
       " SchemaField('id', 'INTEGER', 'NULLABLE', \"The item's unique id.\", (), None),\n",
       " SchemaField('parent', 'INTEGER', 'NULLABLE', 'Parent comment ID', (), None),\n",
       " SchemaField('descendants', 'INTEGER', 'NULLABLE', 'Number of story or poll descendants', (), None),\n",
       " SchemaField('ranking', 'INTEGER', 'NULLABLE', 'Comment ranking', (), None),\n",
       " SchemaField('deleted', 'BOOLEAN', 'NULLABLE', 'Is deleted?', (), None)]"
      ]
     },
     "execution_count": 3,
     "metadata": {},
     "output_type": "execute_result"
    }
   ],
   "source": [
    "table.schema"
   ]
  },
  {
   "cell_type": "markdown",
   "id": "ebf214e2",
   "metadata": {
    "papermill": {
     "duration": 0.004554,
     "end_time": "2024-08-20T18:23:18.850056",
     "exception": false,
     "start_time": "2024-08-20T18:23:18.845502",
     "status": "completed"
    },
    "tags": []
   },
   "source": [
    "# Exercises\n",
    "\n",
    "### 1) Prolific commenters\n",
    "\n",
    "Hacker News would like to send awards to everyone who has written more than 10,000 posts. Write a query that returns all authors with more than 10,000 posts as well as their post counts. Call the column with post counts `NumPosts`.\n",
    "\n",
    "In case sample query is helpful, here is a query you saw in the tutorial to answer a similar question:\n",
    "```\n",
    "query = \"\"\"\n",
    "        SELECT parent, COUNT(1) AS NumPosts\n",
    "        FROM `bigquery-public-data.hacker_news.full`\n",
    "        GROUP BY parent\n",
    "        HAVING COUNT(1) > 10\n",
    "        \"\"\"\n",
    "```"
   ]
  },
  {
   "cell_type": "code",
   "execution_count": 4,
   "id": "8d363428",
   "metadata": {
    "execution": {
     "iopub.execute_input": "2024-08-20T18:23:18.861135Z",
     "iopub.status.busy": "2024-08-20T18:23:18.860726Z",
     "iopub.status.idle": "2024-08-20T18:23:20.445558Z",
     "shell.execute_reply": "2024-08-20T18:23:20.444396Z"
    },
    "papermill": {
     "duration": 1.593097,
     "end_time": "2024-08-20T18:23:20.447905",
     "exception": false,
     "start_time": "2024-08-20T18:23:18.854808",
     "status": "completed"
    },
    "tags": []
   },
   "outputs": [
    {
     "name": "stdout",
     "output_type": "stream",
     "text": [
      "         author  NumPosts\n",
      "0           tzs     12352\n",
      "1       tptacek     58511\n",
      "2  WalterBright     18455\n",
      "3     anigbrowl     22469\n",
      "4   userbinator     14398\n"
     ]
    },
    {
     "data": {
      "application/javascript": [
       "parent.postMessage({\"jupyterEvent\": \"custom.exercise_interaction\", \"data\": {\"outcomeType\": 1, \"valueTowardsCompletion\": 0.5, \"interactionType\": 1, \"questionType\": 2, \"questionId\": \"1_ProlificCommenters\", \"learnToolsVersion\": \"0.3.4\", \"failureMessage\": \"\", \"exceptionClass\": \"\", \"trace\": \"\"}}, \"*\")"
      ],
      "text/plain": [
       "<IPython.core.display.Javascript object>"
      ]
     },
     "metadata": {},
     "output_type": "display_data"
    },
    {
     "data": {
      "text/markdown": [
       "<span style=\"color:#33cc33\">Correct</span>"
      ],
      "text/plain": [
       "Correct"
      ]
     },
     "metadata": {},
     "output_type": "display_data"
    }
   ],
   "source": [
    "# Query to select prolific commenters and post counts\n",
    "prolific_commenters_query = \"\"\"\n",
    "                            SELECT `by` AS author, COUNT(1) AS NumPosts\n",
    "                            FROM `bigquery-public-data.hacker_news.full`\n",
    "                            GROUP BY `by`\n",
    "                            HAVING COUNT(1) > 10000\n",
    "                            \"\"\" \n",
    "\n",
    "# Set up the query (cancel the query if it would use too much of \n",
    "# your quota, with the limit set to 1 GB)\n",
    "safe_config = bigquery.QueryJobConfig(maximum_bytes_billed=10**10)\n",
    "query_job = client.query(prolific_commenters_query, job_config=safe_config)\n",
    "\n",
    "# API request - run the query, and return a pandas DataFrame\n",
    "prolific_commenters = query_job.to_dataframe()\n",
    "\n",
    "# View top few rows of results\n",
    "print(prolific_commenters.head())\n",
    "\n",
    "# Check your answer\n",
    "q_1.check()"
   ]
  },
  {
   "cell_type": "markdown",
   "id": "2a66ea43",
   "metadata": {
    "papermill": {
     "duration": 0.004636,
     "end_time": "2024-08-20T18:23:20.457563",
     "exception": false,
     "start_time": "2024-08-20T18:23:20.452927",
     "status": "completed"
    },
    "tags": []
   },
   "source": [
    "For the solution, uncomment the line below."
   ]
  },
  {
   "cell_type": "code",
   "execution_count": 5,
   "id": "b6c43fc7",
   "metadata": {
    "execution": {
     "iopub.execute_input": "2024-08-20T18:23:20.469112Z",
     "iopub.status.busy": "2024-08-20T18:23:20.468725Z",
     "iopub.status.idle": "2024-08-20T18:23:20.473353Z",
     "shell.execute_reply": "2024-08-20T18:23:20.472205Z"
    },
    "papermill": {
     "duration": 0.013155,
     "end_time": "2024-08-20T18:23:20.475709",
     "exception": false,
     "start_time": "2024-08-20T18:23:20.462554",
     "status": "completed"
    },
    "tags": []
   },
   "outputs": [],
   "source": [
    "#q_1.solution()"
   ]
  },
  {
   "cell_type": "markdown",
   "id": "84450ff0",
   "metadata": {
    "papermill": {
     "duration": 0.004822,
     "end_time": "2024-08-20T18:23:20.485571",
     "exception": false,
     "start_time": "2024-08-20T18:23:20.480749",
     "status": "completed"
    },
    "tags": []
   },
   "source": [
    "### 2) Deleted comments\n",
    "\n",
    "How many comments have been deleted? (If a comment was deleted, the `deleted` column in the table will have the value `True`.)"
   ]
  },
  {
   "cell_type": "code",
   "execution_count": 6,
   "id": "3ddec14c",
   "metadata": {
    "execution": {
     "iopub.execute_input": "2024-08-20T18:23:20.497749Z",
     "iopub.status.busy": "2024-08-20T18:23:20.496828Z",
     "iopub.status.idle": "2024-08-20T18:23:21.673398Z",
     "shell.execute_reply": "2024-08-20T18:23:21.672329Z"
    },
    "papermill": {
     "duration": 1.185274,
     "end_time": "2024-08-20T18:23:21.675975",
     "exception": false,
     "start_time": "2024-08-20T18:23:20.490701",
     "status": "completed"
    },
    "tags": []
   },
   "outputs": [
    {
     "data": {
      "text/html": [
       "<div>\n",
       "<style scoped>\n",
       "    .dataframe tbody tr th:only-of-type {\n",
       "        vertical-align: middle;\n",
       "    }\n",
       "\n",
       "    .dataframe tbody tr th {\n",
       "        vertical-align: top;\n",
       "    }\n",
       "\n",
       "    .dataframe thead th {\n",
       "        text-align: right;\n",
       "    }\n",
       "</style>\n",
       "<table border=\"1\" class=\"dataframe\">\n",
       "  <thead>\n",
       "    <tr style=\"text-align: right;\">\n",
       "      <th></th>\n",
       "      <th>deleted</th>\n",
       "      <th>DeletedComments</th>\n",
       "    </tr>\n",
       "  </thead>\n",
       "  <tbody>\n",
       "    <tr>\n",
       "      <th>0</th>\n",
       "      <td>True</td>\n",
       "      <td>968172</td>\n",
       "    </tr>\n",
       "  </tbody>\n",
       "</table>\n",
       "</div>"
      ],
      "text/plain": [
       "   deleted  DeletedComments\n",
       "0     True           968172"
      ]
     },
     "metadata": {},
     "output_type": "display_data"
    }
   ],
   "source": [
    "# Write a query to count all of the deleted comments \n",
    "deleted_comments_query = \"\"\"\n",
    "                            SELECT deleted, COUNT(*) as DeletedComments\n",
    "                            FROM `bigquery-public-data.hacker_news.full`\n",
    "                            GROUP BY deleted\n",
    "                            HAVING deleted = TRUE\n",
    "                            \"\"\"\n",
    "# Create a restriction limit for the query\n",
    "safe_config = bigquery.QueryJobConfig(maximum_bytes_billed=10**10)\n",
    "query_job = client.query(deleted_comments_query, job_config=safe_config)\n",
    "\n",
    "# API request - run the query and return the results as a pandas DataFrame\n",
    "deleted_comments_df = query_job.to_dataframe()\n",
    "\n",
    "# Print the dataframe\n",
    "display(deleted_comments_df)\n"
   ]
  },
  {
   "cell_type": "code",
   "execution_count": 7,
   "id": "4006a872",
   "metadata": {
    "execution": {
     "iopub.execute_input": "2024-08-20T18:23:21.688148Z",
     "iopub.status.busy": "2024-08-20T18:23:21.687758Z",
     "iopub.status.idle": "2024-08-20T18:23:21.697224Z",
     "shell.execute_reply": "2024-08-20T18:23:21.695863Z"
    },
    "papermill": {
     "duration": 0.018383,
     "end_time": "2024-08-20T18:23:21.699703",
     "exception": false,
     "start_time": "2024-08-20T18:23:21.681320",
     "status": "completed"
    },
    "tags": []
   },
   "outputs": [
    {
     "data": {
      "application/javascript": [
       "parent.postMessage({\"jupyterEvent\": \"custom.exercise_interaction\", \"data\": {\"outcomeType\": 1, \"valueTowardsCompletion\": 0.5, \"interactionType\": 1, \"questionType\": 1, \"questionId\": \"2_NumDeletedPosts\", \"learnToolsVersion\": \"0.3.4\", \"failureMessage\": \"\", \"exceptionClass\": \"\", \"trace\": \"\"}}, \"*\")"
      ],
      "text/plain": [
       "<IPython.core.display.Javascript object>"
      ]
     },
     "metadata": {},
     "output_type": "display_data"
    },
    {
     "data": {
      "text/markdown": [
       "<span style=\"color:#33cc33\">Correct</span>"
      ],
      "text/plain": [
       "Correct"
      ]
     },
     "metadata": {},
     "output_type": "display_data"
    }
   ],
   "source": [
    "num_deleted_posts = 968172 # Put your answer here\n",
    "\n",
    "# Check your answer\n",
    "q_2.check()"
   ]
  },
  {
   "cell_type": "markdown",
   "id": "ab69a5b4",
   "metadata": {
    "papermill": {
     "duration": 0.00571,
     "end_time": "2024-08-20T18:23:21.711110",
     "exception": false,
     "start_time": "2024-08-20T18:23:21.705400",
     "status": "completed"
    },
    "tags": []
   },
   "source": [
    "For the solution, uncomment the line below."
   ]
  },
  {
   "cell_type": "code",
   "execution_count": 8,
   "id": "c4493cb4",
   "metadata": {
    "execution": {
     "iopub.execute_input": "2024-08-20T18:23:21.725349Z",
     "iopub.status.busy": "2024-08-20T18:23:21.724560Z",
     "iopub.status.idle": "2024-08-20T18:23:21.729402Z",
     "shell.execute_reply": "2024-08-20T18:23:21.728188Z"
    },
    "papermill": {
     "duration": 0.014918,
     "end_time": "2024-08-20T18:23:21.731776",
     "exception": false,
     "start_time": "2024-08-20T18:23:21.716858",
     "status": "completed"
    },
    "tags": []
   },
   "outputs": [],
   "source": [
    "#q_2.solution()"
   ]
  },
  {
   "cell_type": "markdown",
   "id": "463dca77",
   "metadata": {
    "papermill": {
     "duration": 0.005239,
     "end_time": "2024-08-20T18:23:21.742631",
     "exception": false,
     "start_time": "2024-08-20T18:23:21.737392",
     "status": "completed"
    },
    "tags": []
   },
   "source": [
    "# Keep Going\n",
    "**[Click here](https://www.kaggle.com/dansbecker/order-by)** to move on and learn about the **ORDER BY** clause."
   ]
  },
  {
   "cell_type": "markdown",
   "id": "a9d4d70c",
   "metadata": {
    "papermill": {
     "duration": 0.005168,
     "end_time": "2024-08-20T18:23:21.753407",
     "exception": false,
     "start_time": "2024-08-20T18:23:21.748239",
     "status": "completed"
    },
    "tags": []
   },
   "source": [
    "---\n",
    "\n",
    "\n",
    "\n",
    "\n",
    "*Have questions or comments? Visit the [course discussion forum](https://www.kaggle.com/learn/intro-to-sql/discussion) to chat with other learners.*"
   ]
  }
 ],
 "metadata": {
  "kaggle": {
   "accelerator": "none",
   "dataSources": [
    {
     "datasetId": 6057,
     "sourceId": 285982,
     "sourceType": "datasetVersion"
    }
   ],
   "isGpuEnabled": false,
   "isInternetEnabled": false,
   "language": "python",
   "sourceType": "notebook"
  },
  "kernelspec": {
   "display_name": "Python 3",
   "language": "python",
   "name": "python3"
  },
  "language_info": {
   "codemirror_mode": {
    "name": "ipython",
    "version": 3
   },
   "file_extension": ".py",
   "mimetype": "text/x-python",
   "name": "python",
   "nbconvert_exporter": "python",
   "pygments_lexer": "ipython3",
   "version": "3.10.13"
  },
  "papermill": {
   "default_parameters": {},
   "duration": 16.878076,
   "end_time": "2024-08-20T18:23:22.481547",
   "environment_variables": {},
   "exception": null,
   "input_path": "__notebook__.ipynb",
   "output_path": "__notebook__.ipynb",
   "parameters": {},
   "start_time": "2024-08-20T18:23:05.603471",
   "version": "2.5.0"
  }
 },
 "nbformat": 4,
 "nbformat_minor": 5
}
