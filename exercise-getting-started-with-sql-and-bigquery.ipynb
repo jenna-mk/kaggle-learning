{
 "cells": [
  {
   "cell_type": "markdown",
   "id": "9d9a44d0",
   "metadata": {
    "papermill": {
     "duration": 0.007992,
     "end_time": "2024-08-16T18:28:26.782565",
     "exception": false,
     "start_time": "2024-08-16T18:28:26.774573",
     "status": "completed"
    },
    "tags": []
   },
   "source": [
    "**This notebook is an exercise in the [SQL](https://www.kaggle.com/learn/intro-to-sql) course.  You can reference the tutorial at [this link](https://www.kaggle.com/dansbecker/getting-started-with-sql-and-bigquery).**\n",
    "\n",
    "---\n"
   ]
  },
  {
   "cell_type": "markdown",
   "id": "d4ff4c25",
   "metadata": {
    "papermill": {
     "duration": 0.007141,
     "end_time": "2024-08-16T18:28:26.797325",
     "exception": false,
     "start_time": "2024-08-16T18:28:26.790184",
     "status": "completed"
    },
    "tags": []
   },
   "source": [
    "# Introduction\n",
    "\n",
    "The first test of your new data exploration skills uses data describing crime in the city of Chicago.\n",
    "\n",
    "Before you get started, run the following cell. It sets up the automated feedback system to review your answers."
   ]
  },
  {
   "cell_type": "code",
   "execution_count": 1,
   "id": "46a7ab73",
   "metadata": {
    "execution": {
     "iopub.execute_input": "2024-08-16T18:28:26.814023Z",
     "iopub.status.busy": "2024-08-16T18:28:26.813592Z",
     "iopub.status.idle": "2024-08-16T18:28:33.881911Z",
     "shell.execute_reply": "2024-08-16T18:28:33.880270Z"
    },
    "papermill": {
     "duration": 7.079956,
     "end_time": "2024-08-16T18:28:33.884832",
     "exception": false,
     "start_time": "2024-08-16T18:28:26.804876",
     "status": "completed"
    },
    "tags": []
   },
   "outputs": [
    {
     "name": "stdout",
     "output_type": "stream",
     "text": [
      "Using Kaggle's public dataset BigQuery integration.\n",
      "Setup Complete\n"
     ]
    }
   ],
   "source": [
    "# Set up feedack system\n",
    "from learntools.core import binder\n",
    "binder.bind(globals())\n",
    "from learntools.sql.ex1 import *\n",
    "print(\"Setup Complete\")"
   ]
  },
  {
   "cell_type": "markdown",
   "id": "0fd58936",
   "metadata": {
    "papermill": {
     "duration": 0.007313,
     "end_time": "2024-08-16T18:28:33.899929",
     "exception": false,
     "start_time": "2024-08-16T18:28:33.892616",
     "status": "completed"
    },
    "tags": []
   },
   "source": [
    "Use the next code cell to fetch the dataset."
   ]
  },
  {
   "cell_type": "code",
   "execution_count": 2,
   "id": "700a0051",
   "metadata": {
    "execution": {
     "iopub.execute_input": "2024-08-16T18:28:33.918647Z",
     "iopub.status.busy": "2024-08-16T18:28:33.917237Z",
     "iopub.status.idle": "2024-08-16T18:28:34.360268Z",
     "shell.execute_reply": "2024-08-16T18:28:34.358829Z"
    },
    "papermill": {
     "duration": 0.455857,
     "end_time": "2024-08-16T18:28:34.363370",
     "exception": false,
     "start_time": "2024-08-16T18:28:33.907513",
     "status": "completed"
    },
    "tags": []
   },
   "outputs": [
    {
     "name": "stdout",
     "output_type": "stream",
     "text": [
      "Using Kaggle's public dataset BigQuery integration.\n"
     ]
    }
   ],
   "source": [
    "from google.cloud import bigquery\n",
    "\n",
    "# Create a \"Client\" object\n",
    "client = bigquery.Client()\n",
    "\n",
    "# Construct a reference to the \"chicago_crime\" dataset\n",
    "dataset_ref = client.dataset(\"chicago_crime\", project=\"bigquery-public-data\")\n",
    "\n",
    "# API request - fetch the dataset\n",
    "dataset = client.get_dataset(dataset_ref)"
   ]
  },
  {
   "cell_type": "markdown",
   "id": "4d03aaba",
   "metadata": {
    "papermill": {
     "duration": 0.007388,
     "end_time": "2024-08-16T18:28:34.378495",
     "exception": false,
     "start_time": "2024-08-16T18:28:34.371107",
     "status": "completed"
    },
    "tags": []
   },
   "source": [
    "# Exercises\n",
    "\n",
    "### 1) Count tables in the dataset\n",
    "\n",
    "How many tables are in the Chicago Crime dataset?"
   ]
  },
  {
   "cell_type": "code",
   "execution_count": 3,
   "id": "05529fad",
   "metadata": {
    "execution": {
     "iopub.execute_input": "2024-08-16T18:28:34.396497Z",
     "iopub.status.busy": "2024-08-16T18:28:34.395496Z",
     "iopub.status.idle": "2024-08-16T18:28:34.630102Z",
     "shell.execute_reply": "2024-08-16T18:28:34.628626Z"
    },
    "papermill": {
     "duration": 0.246208,
     "end_time": "2024-08-16T18:28:34.632586",
     "exception": false,
     "start_time": "2024-08-16T18:28:34.386378",
     "status": "completed"
    },
    "tags": []
   },
   "outputs": [
    {
     "name": "stdout",
     "output_type": "stream",
     "text": [
      "crime\n",
      "1\n"
     ]
    }
   ],
   "source": [
    "# List the tables in the Chicago Crime dataset\n",
    "tables = list(client.list_tables(dataset))\n",
    "\n",
    "# Print the names of the tables in the dataset\n",
    "for table in tables:\n",
    "    print(table.table_id)\n",
    "    \n",
    "# To print JUST the number:\n",
    "print(len(tables))"
   ]
  },
  {
   "cell_type": "code",
   "execution_count": 4,
   "id": "5fe2984f",
   "metadata": {
    "execution": {
     "iopub.execute_input": "2024-08-16T18:28:34.650080Z",
     "iopub.status.busy": "2024-08-16T18:28:34.649691Z",
     "iopub.status.idle": "2024-08-16T18:28:34.660520Z",
     "shell.execute_reply": "2024-08-16T18:28:34.659427Z"
    },
    "papermill": {
     "duration": 0.022577,
     "end_time": "2024-08-16T18:28:34.663073",
     "exception": false,
     "start_time": "2024-08-16T18:28:34.640496",
     "status": "completed"
    },
    "tags": []
   },
   "outputs": [
    {
     "data": {
      "application/javascript": [
       "parent.postMessage({\"jupyterEvent\": \"custom.exercise_interaction\", \"data\": {\"outcomeType\": 1, \"valueTowardsCompletion\": 0.3333333333333333, \"interactionType\": 1, \"questionType\": 1, \"questionId\": \"1_CountTables\", \"learnToolsVersion\": \"0.3.4\", \"failureMessage\": \"\", \"exceptionClass\": \"\", \"trace\": \"\"}}, \"*\")"
      ],
      "text/plain": [
       "<IPython.core.display.Javascript object>"
      ]
     },
     "metadata": {},
     "output_type": "display_data"
    },
    {
     "data": {
      "text/markdown": [
       "<span style=\"color:#33cc33\">Correct</span>"
      ],
      "text/plain": [
       "Correct"
      ]
     },
     "metadata": {},
     "output_type": "display_data"
    }
   ],
   "source": [
    "num_tables = 1  # Store the answer as num_tables and then run this cell\n",
    "\n",
    "# Check your answer\n",
    "q_1.check()"
   ]
  },
  {
   "cell_type": "markdown",
   "id": "584050f3",
   "metadata": {
    "papermill": {
     "duration": 0.008,
     "end_time": "2024-08-16T18:28:34.679543",
     "exception": false,
     "start_time": "2024-08-16T18:28:34.671543",
     "status": "completed"
    },
    "tags": []
   },
   "source": [
    "For a hint or the solution, uncomment the appropriate line below."
   ]
  },
  {
   "cell_type": "code",
   "execution_count": 5,
   "id": "90963775",
   "metadata": {
    "execution": {
     "iopub.execute_input": "2024-08-16T18:28:34.697850Z",
     "iopub.status.busy": "2024-08-16T18:28:34.697421Z",
     "iopub.status.idle": "2024-08-16T18:28:34.707089Z",
     "shell.execute_reply": "2024-08-16T18:28:34.706001Z"
    },
    "papermill": {
     "duration": 0.021748,
     "end_time": "2024-08-16T18:28:34.709548",
     "exception": false,
     "start_time": "2024-08-16T18:28:34.687800",
     "status": "completed"
    },
    "tags": []
   },
   "outputs": [
    {
     "data": {
      "application/javascript": [
       "parent.postMessage({\"jupyterEvent\": \"custom.exercise_interaction\", \"data\": {\"interactionType\": 3, \"questionType\": 1, \"questionId\": \"1_CountTables\", \"learnToolsVersion\": \"0.3.4\", \"valueTowardsCompletion\": 0.0, \"failureMessage\": \"\", \"exceptionClass\": \"\", \"trace\": \"\", \"outcomeType\": 4}}, \"*\")"
      ],
      "text/plain": [
       "<IPython.core.display.Javascript object>"
      ]
     },
     "metadata": {},
     "output_type": "display_data"
    },
    {
     "data": {
      "text/markdown": [
       "<span style=\"color:#33cc99\">Solution:</span> \n",
       "```python\n",
       "\n",
       "# List all the tables in the \"chicago_crime\" dataset\n",
       "tables = list(client.list_tables(dataset))\n",
       "\n",
       "# Print number of tables in the dataset\n",
       "print(len(tables))\n",
       "\n",
       "num_tables = 1\n",
       "\n",
       "```"
      ],
      "text/plain": [
       "Solution: \n",
       "```python\n",
       "\n",
       "# List all the tables in the \"chicago_crime\" dataset\n",
       "tables = list(client.list_tables(dataset))\n",
       "\n",
       "# Print number of tables in the dataset\n",
       "print(len(tables))\n",
       "\n",
       "num_tables = 1\n",
       "\n",
       "```"
      ]
     },
     "metadata": {},
     "output_type": "display_data"
    }
   ],
   "source": [
    "#q_1.hint()\n",
    "q_1.solution()"
   ]
  },
  {
   "cell_type": "markdown",
   "id": "9ee22076",
   "metadata": {
    "papermill": {
     "duration": 0.008265,
     "end_time": "2024-08-16T18:28:34.726430",
     "exception": false,
     "start_time": "2024-08-16T18:28:34.718165",
     "status": "completed"
    },
    "tags": []
   },
   "source": [
    "### 2) Explore the table schema\n",
    "\n",
    "How many columns in the `crime` table have `TIMESTAMP` data?"
   ]
  },
  {
   "cell_type": "code",
   "execution_count": 6,
   "id": "3a03a378",
   "metadata": {
    "execution": {
     "iopub.execute_input": "2024-08-16T18:28:34.747157Z",
     "iopub.status.busy": "2024-08-16T18:28:34.746709Z",
     "iopub.status.idle": "2024-08-16T18:28:35.091980Z",
     "shell.execute_reply": "2024-08-16T18:28:35.090725Z"
    },
    "papermill": {
     "duration": 0.357885,
     "end_time": "2024-08-16T18:28:35.094695",
     "exception": false,
     "start_time": "2024-08-16T18:28:34.736810",
     "status": "completed"
    },
    "tags": []
   },
   "outputs": [
    {
     "data": {
      "text/plain": [
       "[SchemaField('unique_key', 'INTEGER', 'REQUIRED', None, (), None),\n",
       " SchemaField('case_number', 'STRING', 'NULLABLE', None, (), None),\n",
       " SchemaField('date', 'TIMESTAMP', 'NULLABLE', None, (), None),\n",
       " SchemaField('block', 'STRING', 'NULLABLE', None, (), None),\n",
       " SchemaField('iucr', 'STRING', 'NULLABLE', None, (), None),\n",
       " SchemaField('primary_type', 'STRING', 'NULLABLE', None, (), None),\n",
       " SchemaField('description', 'STRING', 'NULLABLE', None, (), None),\n",
       " SchemaField('location_description', 'STRING', 'NULLABLE', None, (), None),\n",
       " SchemaField('arrest', 'BOOLEAN', 'NULLABLE', None, (), None),\n",
       " SchemaField('domestic', 'BOOLEAN', 'NULLABLE', None, (), None),\n",
       " SchemaField('beat', 'INTEGER', 'NULLABLE', None, (), None),\n",
       " SchemaField('district', 'INTEGER', 'NULLABLE', None, (), None),\n",
       " SchemaField('ward', 'INTEGER', 'NULLABLE', None, (), None),\n",
       " SchemaField('community_area', 'INTEGER', 'NULLABLE', None, (), None),\n",
       " SchemaField('fbi_code', 'STRING', 'NULLABLE', None, (), None),\n",
       " SchemaField('x_coordinate', 'FLOAT', 'NULLABLE', None, (), None),\n",
       " SchemaField('y_coordinate', 'FLOAT', 'NULLABLE', None, (), None),\n",
       " SchemaField('year', 'INTEGER', 'NULLABLE', None, (), None),\n",
       " SchemaField('updated_on', 'TIMESTAMP', 'NULLABLE', None, (), None),\n",
       " SchemaField('latitude', 'FLOAT', 'NULLABLE', None, (), None),\n",
       " SchemaField('longitude', 'FLOAT', 'NULLABLE', None, (), None),\n",
       " SchemaField('location', 'STRING', 'NULLABLE', None, (), None)]"
      ]
     },
     "execution_count": 6,
     "metadata": {},
     "output_type": "execute_result"
    }
   ],
   "source": [
    "# Create a reference to the table (think of as going down one level -- you have to construct the ladder)\n",
    "crime_ref = dataset_ref.table('crime')\n",
    "\n",
    "# API request to fetch the table\n",
    "crime_table = client.get_table(crime_ref)\n",
    "\n",
    "# Explore the schema\n",
    "crime_table.schema"
   ]
  },
  {
   "cell_type": "code",
   "execution_count": 7,
   "id": "75a2a72a",
   "metadata": {
    "execution": {
     "iopub.execute_input": "2024-08-16T18:28:35.115435Z",
     "iopub.status.busy": "2024-08-16T18:28:35.114486Z",
     "iopub.status.idle": "2024-08-16T18:28:35.124159Z",
     "shell.execute_reply": "2024-08-16T18:28:35.122974Z"
    },
    "papermill": {
     "duration": 0.023485,
     "end_time": "2024-08-16T18:28:35.126930",
     "exception": false,
     "start_time": "2024-08-16T18:28:35.103445",
     "status": "completed"
    },
    "tags": []
   },
   "outputs": [
    {
     "data": {
      "application/javascript": [
       "parent.postMessage({\"jupyterEvent\": \"custom.exercise_interaction\", \"data\": {\"outcomeType\": 1, \"valueTowardsCompletion\": 0.3333333333333333, \"interactionType\": 1, \"questionType\": 1, \"questionId\": \"2_CountTimestampFields\", \"learnToolsVersion\": \"0.3.4\", \"failureMessage\": \"\", \"exceptionClass\": \"\", \"trace\": \"\"}}, \"*\")"
      ],
      "text/plain": [
       "<IPython.core.display.Javascript object>"
      ]
     },
     "metadata": {},
     "output_type": "display_data"
    },
    {
     "data": {
      "text/markdown": [
       "<span style=\"color:#33cc33\">Correct</span>"
      ],
      "text/plain": [
       "Correct"
      ]
     },
     "metadata": {},
     "output_type": "display_data"
    }
   ],
   "source": [
    "num_timestamp_fields = 2 # Put your answer here\n",
    "\n",
    "# Check your answer\n",
    "q_2.check()"
   ]
  },
  {
   "cell_type": "markdown",
   "id": "90304387",
   "metadata": {
    "papermill": {
     "duration": 0.008796,
     "end_time": "2024-08-16T18:28:35.144824",
     "exception": false,
     "start_time": "2024-08-16T18:28:35.136028",
     "status": "completed"
    },
    "tags": []
   },
   "source": [
    "For a hint or the solution, uncomment the appropriate line below."
   ]
  },
  {
   "cell_type": "code",
   "execution_count": 8,
   "id": "45bf04c2",
   "metadata": {
    "execution": {
     "iopub.execute_input": "2024-08-16T18:28:35.165204Z",
     "iopub.status.busy": "2024-08-16T18:28:35.164700Z",
     "iopub.status.idle": "2024-08-16T18:28:35.169759Z",
     "shell.execute_reply": "2024-08-16T18:28:35.168582Z"
    },
    "papermill": {
     "duration": 0.018306,
     "end_time": "2024-08-16T18:28:35.172325",
     "exception": false,
     "start_time": "2024-08-16T18:28:35.154019",
     "status": "completed"
    },
    "tags": []
   },
   "outputs": [],
   "source": [
    "# q_2.hint()\n",
    "# q_2.solution()"
   ]
  },
  {
   "cell_type": "markdown",
   "id": "49ba3eb7",
   "metadata": {
    "papermill": {
     "duration": 0.008712,
     "end_time": "2024-08-16T18:28:35.190206",
     "exception": false,
     "start_time": "2024-08-16T18:28:35.181494",
     "status": "completed"
    },
    "tags": []
   },
   "source": [
    "### 3) Create a crime map\n",
    "\n",
    "If you wanted to create a map with a dot at the location of each crime, what are the names of the two fields you likely need to pull out of the `crime` table to plot the crimes on a map?"
   ]
  },
  {
   "cell_type": "code",
   "execution_count": 9,
   "id": "4f74b697",
   "metadata": {
    "execution": {
     "iopub.execute_input": "2024-08-16T18:28:35.211133Z",
     "iopub.status.busy": "2024-08-16T18:28:35.210709Z",
     "iopub.status.idle": "2024-08-16T18:28:35.219023Z",
     "shell.execute_reply": "2024-08-16T18:28:35.217817Z"
    },
    "papermill": {
     "duration": 0.0223,
     "end_time": "2024-08-16T18:28:35.221544",
     "exception": false,
     "start_time": "2024-08-16T18:28:35.199244",
     "status": "completed"
    },
    "tags": []
   },
   "outputs": [
    {
     "data": {
      "text/plain": [
       "[SchemaField('unique_key', 'INTEGER', 'REQUIRED', None, (), None),\n",
       " SchemaField('case_number', 'STRING', 'NULLABLE', None, (), None),\n",
       " SchemaField('date', 'TIMESTAMP', 'NULLABLE', None, (), None),\n",
       " SchemaField('block', 'STRING', 'NULLABLE', None, (), None),\n",
       " SchemaField('iucr', 'STRING', 'NULLABLE', None, (), None),\n",
       " SchemaField('primary_type', 'STRING', 'NULLABLE', None, (), None),\n",
       " SchemaField('description', 'STRING', 'NULLABLE', None, (), None),\n",
       " SchemaField('location_description', 'STRING', 'NULLABLE', None, (), None),\n",
       " SchemaField('arrest', 'BOOLEAN', 'NULLABLE', None, (), None),\n",
       " SchemaField('domestic', 'BOOLEAN', 'NULLABLE', None, (), None),\n",
       " SchemaField('beat', 'INTEGER', 'NULLABLE', None, (), None),\n",
       " SchemaField('district', 'INTEGER', 'NULLABLE', None, (), None),\n",
       " SchemaField('ward', 'INTEGER', 'NULLABLE', None, (), None),\n",
       " SchemaField('community_area', 'INTEGER', 'NULLABLE', None, (), None),\n",
       " SchemaField('fbi_code', 'STRING', 'NULLABLE', None, (), None),\n",
       " SchemaField('x_coordinate', 'FLOAT', 'NULLABLE', None, (), None),\n",
       " SchemaField('y_coordinate', 'FLOAT', 'NULLABLE', None, (), None),\n",
       " SchemaField('year', 'INTEGER', 'NULLABLE', None, (), None),\n",
       " SchemaField('updated_on', 'TIMESTAMP', 'NULLABLE', None, (), None),\n",
       " SchemaField('latitude', 'FLOAT', 'NULLABLE', None, (), None),\n",
       " SchemaField('longitude', 'FLOAT', 'NULLABLE', None, (), None),\n",
       " SchemaField('location', 'STRING', 'NULLABLE', None, (), None)]"
      ]
     },
     "execution_count": 9,
     "metadata": {},
     "output_type": "execute_result"
    }
   ],
   "source": [
    "crime_table.schema"
   ]
  },
  {
   "cell_type": "code",
   "execution_count": 10,
   "id": "c6cc9f4c",
   "metadata": {
    "execution": {
     "iopub.execute_input": "2024-08-16T18:28:35.242594Z",
     "iopub.status.busy": "2024-08-16T18:28:35.241512Z",
     "iopub.status.idle": "2024-08-16T18:28:35.253219Z",
     "shell.execute_reply": "2024-08-16T18:28:35.251876Z"
    },
    "papermill": {
     "duration": 0.025408,
     "end_time": "2024-08-16T18:28:35.256284",
     "exception": false,
     "start_time": "2024-08-16T18:28:35.230876",
     "status": "completed"
    },
    "tags": []
   },
   "outputs": [
    {
     "name": "stdout",
     "output_type": "stream",
     "text": [
      "`'latitude'` and `'longitude'` would be better and more standard than `'x_coordinate'` and `'y_coordinate'`, but this might work.\n"
     ]
    },
    {
     "data": {
      "application/javascript": [
       "parent.postMessage({\"jupyterEvent\": \"custom.exercise_interaction\", \"data\": {\"outcomeType\": 1, \"valueTowardsCompletion\": 0.3333333333333333, \"interactionType\": 1, \"questionType\": 2, \"questionId\": \"3_IdentifyFieldsForPlotting\", \"learnToolsVersion\": \"0.3.4\", \"failureMessage\": \"\", \"exceptionClass\": \"\", \"trace\": \"\"}}, \"*\")"
      ],
      "text/plain": [
       "<IPython.core.display.Javascript object>"
      ]
     },
     "metadata": {},
     "output_type": "display_data"
    },
    {
     "data": {
      "text/markdown": [
       "<span style=\"color:#33cc33\">Correct</span>"
      ],
      "text/plain": [
       "Correct"
      ]
     },
     "metadata": {},
     "output_type": "display_data"
    }
   ],
   "source": [
    "fields_for_plotting = ['x_coordinate', 'y_coordinate'] # Put your answers here\n",
    "\n",
    "# Check your answer\n",
    "q_3.check()"
   ]
  },
  {
   "cell_type": "markdown",
   "id": "8ea098d2",
   "metadata": {
    "papermill": {
     "duration": 0.009458,
     "end_time": "2024-08-16T18:28:35.275449",
     "exception": false,
     "start_time": "2024-08-16T18:28:35.265991",
     "status": "completed"
    },
    "tags": []
   },
   "source": [
    "For a hint or the solution, uncomment the appropriate line below."
   ]
  },
  {
   "cell_type": "code",
   "execution_count": 11,
   "id": "ab3b0c4b",
   "metadata": {
    "execution": {
     "iopub.execute_input": "2024-08-16T18:28:35.297363Z",
     "iopub.status.busy": "2024-08-16T18:28:35.296974Z",
     "iopub.status.idle": "2024-08-16T18:28:35.301975Z",
     "shell.execute_reply": "2024-08-16T18:28:35.300830Z"
    },
    "papermill": {
     "duration": 0.01879,
     "end_time": "2024-08-16T18:28:35.304599",
     "exception": false,
     "start_time": "2024-08-16T18:28:35.285809",
     "status": "completed"
    },
    "tags": []
   },
   "outputs": [],
   "source": [
    "#q_3.hint()\n",
    "#q_3.solution()"
   ]
  },
  {
   "cell_type": "markdown",
   "id": "aa4e0eab",
   "metadata": {
    "papermill": {
     "duration": 0.009599,
     "end_time": "2024-08-16T18:28:35.323929",
     "exception": false,
     "start_time": "2024-08-16T18:28:35.314330",
     "status": "completed"
    },
    "tags": []
   },
   "source": [
    "Thinking about the question above, there are a few columns that appear to have geographic data. Look at a few values (with the `list_rows()` command) to see if you can determine their relationship.  Two columns will still be hard to interpret. But it should be obvious how the `location` column relates to `latitude` and `longitude`."
   ]
  },
  {
   "cell_type": "code",
   "execution_count": 12,
   "id": "4d3b6c51",
   "metadata": {
    "execution": {
     "iopub.execute_input": "2024-08-16T18:28:35.345522Z",
     "iopub.status.busy": "2024-08-16T18:28:35.345113Z",
     "iopub.status.idle": "2024-08-16T18:28:35.853225Z",
     "shell.execute_reply": "2024-08-16T18:28:35.852029Z"
    },
    "papermill": {
     "duration": 0.522098,
     "end_time": "2024-08-16T18:28:35.855994",
     "exception": false,
     "start_time": "2024-08-16T18:28:35.333896",
     "status": "completed"
    },
    "tags": []
   },
   "outputs": [
    {
     "data": {
      "text/html": [
       "<div>\n",
       "<style scoped>\n",
       "    .dataframe tbody tr th:only-of-type {\n",
       "        vertical-align: middle;\n",
       "    }\n",
       "\n",
       "    .dataframe tbody tr th {\n",
       "        vertical-align: top;\n",
       "    }\n",
       "\n",
       "    .dataframe thead th {\n",
       "        text-align: right;\n",
       "    }\n",
       "</style>\n",
       "<table border=\"1\" class=\"dataframe\">\n",
       "  <thead>\n",
       "    <tr style=\"text-align: right;\">\n",
       "      <th></th>\n",
       "      <th>unique_key</th>\n",
       "      <th>case_number</th>\n",
       "      <th>date</th>\n",
       "      <th>block</th>\n",
       "      <th>iucr</th>\n",
       "      <th>primary_type</th>\n",
       "      <th>description</th>\n",
       "      <th>location_description</th>\n",
       "      <th>arrest</th>\n",
       "      <th>domestic</th>\n",
       "      <th>...</th>\n",
       "      <th>ward</th>\n",
       "      <th>community_area</th>\n",
       "      <th>fbi_code</th>\n",
       "      <th>x_coordinate</th>\n",
       "      <th>y_coordinate</th>\n",
       "      <th>year</th>\n",
       "      <th>updated_on</th>\n",
       "      <th>latitude</th>\n",
       "      <th>longitude</th>\n",
       "      <th>location</th>\n",
       "    </tr>\n",
       "  </thead>\n",
       "  <tbody>\n",
       "    <tr>\n",
       "      <th>0</th>\n",
       "      <td>12401183</td>\n",
       "      <td>JE274176</td>\n",
       "      <td>2021-06-20 18:00:00+00:00</td>\n",
       "      <td>002XX N WABASH AVE</td>\n",
       "      <td>0281</td>\n",
       "      <td>CRIMINAL SEXUAL ASSAULT</td>\n",
       "      <td>NON-AGGRAVATED</td>\n",
       "      <td>HOTEL / MOTEL</td>\n",
       "      <td>False</td>\n",
       "      <td>False</td>\n",
       "      <td>...</td>\n",
       "      <td>42</td>\n",
       "      <td>32</td>\n",
       "      <td>02</td>\n",
       "      <td>1176777.0</td>\n",
       "      <td>1901808.0</td>\n",
       "      <td>2021</td>\n",
       "      <td>2021-06-27 15:40:29+00:00</td>\n",
       "      <td>41.885908</td>\n",
       "      <td>-87.626289</td>\n",
       "      <td>(41.885908101, -87.626289429)</td>\n",
       "    </tr>\n",
       "    <tr>\n",
       "      <th>1</th>\n",
       "      <td>7983475</td>\n",
       "      <td>HT215428</td>\n",
       "      <td>2011-03-17 19:00:00+00:00</td>\n",
       "      <td>001XX N STATE ST</td>\n",
       "      <td>0281</td>\n",
       "      <td>CRIM SEXUAL ASSAULT</td>\n",
       "      <td>NON-AGGRAVATED</td>\n",
       "      <td>SCHOOL, PRIVATE, BUILDING</td>\n",
       "      <td>False</td>\n",
       "      <td>False</td>\n",
       "      <td>...</td>\n",
       "      <td>42</td>\n",
       "      <td>32</td>\n",
       "      <td>02</td>\n",
       "      <td>1176332.0</td>\n",
       "      <td>1901584.0</td>\n",
       "      <td>2011</td>\n",
       "      <td>2018-02-10 15:50:01+00:00</td>\n",
       "      <td>41.885303</td>\n",
       "      <td>-87.627930</td>\n",
       "      <td>(41.885303483, -87.627930307)</td>\n",
       "    </tr>\n",
       "    <tr>\n",
       "      <th>2</th>\n",
       "      <td>11193033</td>\n",
       "      <td>JB101195</td>\n",
       "      <td>2018-01-02 03:45:00+00:00</td>\n",
       "      <td>003XX N MICHIGAN AVE</td>\n",
       "      <td>031A</td>\n",
       "      <td>ROBBERY</td>\n",
       "      <td>ARMED: HANDGUN</td>\n",
       "      <td>STREET</td>\n",
       "      <td>False</td>\n",
       "      <td>False</td>\n",
       "      <td>...</td>\n",
       "      <td>42</td>\n",
       "      <td>32</td>\n",
       "      <td>03</td>\n",
       "      <td>1177246.0</td>\n",
       "      <td>1902350.0</td>\n",
       "      <td>2018</td>\n",
       "      <td>2018-05-04 15:51:04+00:00</td>\n",
       "      <td>41.887385</td>\n",
       "      <td>-87.624551</td>\n",
       "      <td>(41.887384761, -87.624550742)</td>\n",
       "    </tr>\n",
       "    <tr>\n",
       "      <th>3</th>\n",
       "      <td>7269548</td>\n",
       "      <td>HR682880</td>\n",
       "      <td>2009-12-10 12:55:00+00:00</td>\n",
       "      <td>005XX W VAN BUREN ST</td>\n",
       "      <td>031A</td>\n",
       "      <td>ROBBERY</td>\n",
       "      <td>ARMED: HANDGUN</td>\n",
       "      <td>PARKING LOT/GARAGE(NON.RESID.)</td>\n",
       "      <td>False</td>\n",
       "      <td>False</td>\n",
       "      <td>...</td>\n",
       "      <td>2</td>\n",
       "      <td>28</td>\n",
       "      <td>03</td>\n",
       "      <td>1172594.0</td>\n",
       "      <td>1898434.0</td>\n",
       "      <td>2009</td>\n",
       "      <td>2018-02-28 15:56:25+00:00</td>\n",
       "      <td>41.876743</td>\n",
       "      <td>-87.641750</td>\n",
       "      <td>(41.876743174, -87.641749999)</td>\n",
       "    </tr>\n",
       "    <tr>\n",
       "      <th>4</th>\n",
       "      <td>8048121</td>\n",
       "      <td>HT279938</td>\n",
       "      <td>2011-05-02 07:00:00+00:00</td>\n",
       "      <td>002XX S CANAL ST</td>\n",
       "      <td>031A</td>\n",
       "      <td>ROBBERY</td>\n",
       "      <td>ARMED: HANDGUN</td>\n",
       "      <td>OTHER RAILROAD PROP / TRAIN DEPOT</td>\n",
       "      <td>False</td>\n",
       "      <td>False</td>\n",
       "      <td>...</td>\n",
       "      <td>2</td>\n",
       "      <td>28</td>\n",
       "      <td>03</td>\n",
       "      <td>1173177.0</td>\n",
       "      <td>1899236.0</td>\n",
       "      <td>2011</td>\n",
       "      <td>2018-02-10 15:50:01+00:00</td>\n",
       "      <td>41.878931</td>\n",
       "      <td>-87.639586</td>\n",
       "      <td>(41.878931004, -87.639585621)</td>\n",
       "    </tr>\n",
       "  </tbody>\n",
       "</table>\n",
       "<p>5 rows × 22 columns</p>\n",
       "</div>"
      ],
      "text/plain": [
       "   unique_key case_number                      date                 block  \\\n",
       "0    12401183    JE274176 2021-06-20 18:00:00+00:00    002XX N WABASH AVE   \n",
       "1     7983475    HT215428 2011-03-17 19:00:00+00:00      001XX N STATE ST   \n",
       "2    11193033    JB101195 2018-01-02 03:45:00+00:00  003XX N MICHIGAN AVE   \n",
       "3     7269548    HR682880 2009-12-10 12:55:00+00:00  005XX W VAN BUREN ST   \n",
       "4     8048121    HT279938 2011-05-02 07:00:00+00:00      002XX S CANAL ST   \n",
       "\n",
       "   iucr             primary_type     description  \\\n",
       "0  0281  CRIMINAL SEXUAL ASSAULT  NON-AGGRAVATED   \n",
       "1  0281      CRIM SEXUAL ASSAULT  NON-AGGRAVATED   \n",
       "2  031A                  ROBBERY  ARMED: HANDGUN   \n",
       "3  031A                  ROBBERY  ARMED: HANDGUN   \n",
       "4  031A                  ROBBERY  ARMED: HANDGUN   \n",
       "\n",
       "                location_description  arrest  domestic  ...  ward  \\\n",
       "0                      HOTEL / MOTEL   False     False  ...    42   \n",
       "1          SCHOOL, PRIVATE, BUILDING   False     False  ...    42   \n",
       "2                             STREET   False     False  ...    42   \n",
       "3     PARKING LOT/GARAGE(NON.RESID.)   False     False  ...     2   \n",
       "4  OTHER RAILROAD PROP / TRAIN DEPOT   False     False  ...     2   \n",
       "\n",
       "   community_area  fbi_code  x_coordinate y_coordinate  year  \\\n",
       "0              32        02     1176777.0    1901808.0  2021   \n",
       "1              32        02     1176332.0    1901584.0  2011   \n",
       "2              32        03     1177246.0    1902350.0  2018   \n",
       "3              28        03     1172594.0    1898434.0  2009   \n",
       "4              28        03     1173177.0    1899236.0  2011   \n",
       "\n",
       "                 updated_on   latitude  longitude  \\\n",
       "0 2021-06-27 15:40:29+00:00  41.885908 -87.626289   \n",
       "1 2018-02-10 15:50:01+00:00  41.885303 -87.627930   \n",
       "2 2018-05-04 15:51:04+00:00  41.887385 -87.624551   \n",
       "3 2018-02-28 15:56:25+00:00  41.876743 -87.641750   \n",
       "4 2018-02-10 15:50:01+00:00  41.878931 -87.639586   \n",
       "\n",
       "                        location  \n",
       "0  (41.885908101, -87.626289429)  \n",
       "1  (41.885303483, -87.627930307)  \n",
       "2  (41.887384761, -87.624550742)  \n",
       "3  (41.876743174, -87.641749999)  \n",
       "4  (41.878931004, -87.639585621)  \n",
       "\n",
       "[5 rows x 22 columns]"
      ]
     },
     "execution_count": 12,
     "metadata": {},
     "output_type": "execute_result"
    }
   ],
   "source": [
    "client.list_rows(crime_table, max_results=5).to_dataframe()\n",
    "\n",
    "# When you explore this way, you can see the difference between x_coordinate and y_coordinate, \n",
    "# and longitude and latitude -- long/lat are directly correlated to the location so are the better option to use "
   ]
  },
  {
   "cell_type": "markdown",
   "id": "eae1af52",
   "metadata": {
    "papermill": {
     "duration": 0.010122,
     "end_time": "2024-08-16T18:28:35.876373",
     "exception": false,
     "start_time": "2024-08-16T18:28:35.866251",
     "status": "completed"
    },
    "tags": []
   },
   "source": [
    "# Keep going\n",
    "\n",
    "You've looked at the schema, but you haven't yet done anything exciting with the data itself. Things get more interesting when you get to the data, so keep going to **[write your first SQL query](https://www.kaggle.com/dansbecker/select-from-where).**"
   ]
  },
  {
   "cell_type": "markdown",
   "id": "8397f155",
   "metadata": {
    "papermill": {
     "duration": 0.009858,
     "end_time": "2024-08-16T18:28:35.896379",
     "exception": false,
     "start_time": "2024-08-16T18:28:35.886521",
     "status": "completed"
    },
    "tags": []
   },
   "source": [
    "---\n",
    "\n",
    "\n",
    "\n",
    "\n",
    "*Have questions or comments? Visit the [course discussion forum](https://www.kaggle.com/learn/intro-to-sql/discussion) to chat with other learners.*"
   ]
  }
 ],
 "metadata": {
  "kaggle": {
   "accelerator": "none",
   "dataSources": [
    {
     "datasetId": 22090,
     "sourceId": 28376,
     "sourceType": "datasetVersion"
    },
    {
     "datasetId": 6057,
     "sourceId": 285982,
     "sourceType": "datasetVersion"
    }
   ],
   "isGpuEnabled": false,
   "isInternetEnabled": false,
   "language": "python",
   "sourceType": "notebook"
  },
  "kernelspec": {
   "display_name": "Python 3",
   "language": "python",
   "name": "python3"
  },
  "language_info": {
   "codemirror_mode": {
    "name": "ipython",
    "version": 3
   },
   "file_extension": ".py",
   "mimetype": "text/x-python",
   "name": "python",
   "nbconvert_exporter": "python",
   "pygments_lexer": "ipython3",
   "version": "3.10.13"
  },
  "papermill": {
   "default_parameters": {},
   "duration": 13.039437,
   "end_time": "2024-08-16T18:28:36.729947",
   "environment_variables": {},
   "exception": null,
   "input_path": "__notebook__.ipynb",
   "output_path": "__notebook__.ipynb",
   "parameters": {},
   "start_time": "2024-08-16T18:28:23.690510",
   "version": "2.5.0"
  }
 },
 "nbformat": 4,
 "nbformat_minor": 5
}
