{
 "cells": [
  {
   "cell_type": "markdown",
   "id": "c5e9c444",
   "metadata": {
    "papermill": {
     "duration": 0.011141,
     "end_time": "2024-08-23T21:13:22.176182",
     "exception": false,
     "start_time": "2024-08-23T21:13:22.165041",
     "status": "completed"
    },
    "tags": []
   },
   "source": [
    "**This notebook is an exercise in the [SQL](https://www.kaggle.com/learn/intro-to-sql) course.  You can reference the tutorial at [this link](https://www.kaggle.com/dansbecker/as-with).**\n",
    "\n",
    "---\n"
   ]
  },
  {
   "cell_type": "markdown",
   "id": "2c6c40e7",
   "metadata": {
    "papermill": {
     "duration": 0.008823,
     "end_time": "2024-08-23T21:13:22.194929",
     "exception": false,
     "start_time": "2024-08-23T21:13:22.186106",
     "status": "completed"
    },
    "tags": []
   },
   "source": [
    "# Introduction\n",
    "\n",
    "You are getting to the point where you can own an analysis from beginning to end. So you'll do more data exploration in this exercise than you've done before.  Before you get started, run the following set-up code as usual. "
   ]
  },
  {
   "cell_type": "code",
   "execution_count": 1,
   "id": "1c7b2b00",
   "metadata": {
    "execution": {
     "iopub.execute_input": "2024-08-23T21:13:22.215372Z",
     "iopub.status.busy": "2024-08-23T21:13:22.214918Z",
     "iopub.status.idle": "2024-08-23T21:14:02.433427Z",
     "shell.execute_reply": "2024-08-23T21:14:02.432060Z"
    },
    "papermill": {
     "duration": 40.231565,
     "end_time": "2024-08-23T21:14:02.435977",
     "exception": false,
     "start_time": "2024-08-23T21:13:22.204412",
     "status": "completed"
    },
    "tags": []
   },
   "outputs": [
    {
     "name": "stdout",
     "output_type": "stream",
     "text": [
      "Collecting git+https://github.com/Kaggle/learntools.git\r\n",
      "  Cloning https://github.com/Kaggle/learntools.git to /tmp/pip-req-build-iwec_2yh\r\n",
      "  Running command git clone --filter=blob:none --quiet https://github.com/Kaggle/learntools.git /tmp/pip-req-build-iwec_2yh\r\n",
      "  Resolved https://github.com/Kaggle/learntools.git to commit ca2a51ee0085e4943cadaf5e9fe7dce2ec947d3c\r\n",
      "  Preparing metadata (setup.py) ... \u001b[?25ldone\r\n",
      "\u001b[?25hBuilding wheels for collected packages: learntools\r\n",
      "  Building wheel for learntools (setup.py) ... \u001b[?25l-\b \bdone\r\n",
      "\u001b[?25h  Created wheel for learntools: filename=learntools-0.3.4-py3-none-any.whl size=268968 sha256=5cf840c57df90678f1afddcb6e3d0f5da7e65538f9efd5d79900d8220fb1c7ca\r\n",
      "  Stored in directory: /tmp/pip-ephem-wheel-cache-34uhg6xq/wheels/2f/6c/3c/aa9f50cfb5a862157cb4c7a5b34881828cf45404698255dced\r\n",
      "Successfully built learntools\r\n",
      "Installing collected packages: learntools\r\n",
      "Successfully installed learntools-0.3.4\r\n",
      "Using Kaggle's public dataset BigQuery integration.\n",
      "Setup Complete\n"
     ]
    }
   ],
   "source": [
    "# Get most recent checking code\n",
    "!pip install -U -t /kaggle/working/ git+https://github.com/Kaggle/learntools.git\n",
    "# Set up feedback system\n",
    "from learntools.core import binder\n",
    "binder.bind(globals())\n",
    "from learntools.sql.ex5 import *\n",
    "print(\"Setup Complete\")"
   ]
  },
  {
   "cell_type": "markdown",
   "id": "d9776a7e",
   "metadata": {
    "papermill": {
     "duration": 0.009702,
     "end_time": "2024-08-23T21:14:02.455583",
     "exception": false,
     "start_time": "2024-08-23T21:14:02.445881",
     "status": "completed"
    },
    "tags": []
   },
   "source": [
    "You'll work with a dataset about taxi trips in the city of Chicago. Run the cell below to fetch the `chicago_taxi_trips` dataset."
   ]
  },
  {
   "cell_type": "code",
   "execution_count": 2,
   "id": "ab30fbbb",
   "metadata": {
    "execution": {
     "iopub.execute_input": "2024-08-23T21:14:02.477699Z",
     "iopub.status.busy": "2024-08-23T21:14:02.477085Z",
     "iopub.status.idle": "2024-08-23T21:14:03.533489Z",
     "shell.execute_reply": "2024-08-23T21:14:03.532281Z"
    },
    "papermill": {
     "duration": 1.071162,
     "end_time": "2024-08-23T21:14:03.536652",
     "exception": false,
     "start_time": "2024-08-23T21:14:02.465490",
     "status": "completed"
    },
    "tags": []
   },
   "outputs": [
    {
     "name": "stdout",
     "output_type": "stream",
     "text": [
      "Using Kaggle's public dataset BigQuery integration.\n"
     ]
    }
   ],
   "source": [
    "from google.cloud import bigquery\n",
    "\n",
    "# Create a \"Client\" object\n",
    "client = bigquery.Client()\n",
    "\n",
    "# Construct a reference to the \"chicago_taxi_trips\" dataset\n",
    "dataset_ref = client.dataset(\"chicago_taxi_trips\", project=\"bigquery-public-data\")\n",
    "\n",
    "# API request - fetch the dataset\n",
    "dataset = client.get_dataset(dataset_ref)"
   ]
  },
  {
   "cell_type": "markdown",
   "id": "a7337305",
   "metadata": {
    "papermill": {
     "duration": 0.010888,
     "end_time": "2024-08-23T21:14:03.558149",
     "exception": false,
     "start_time": "2024-08-23T21:14:03.547261",
     "status": "completed"
    },
    "tags": []
   },
   "source": [
    "# Exercises\n",
    "\n",
    "You are curious how much slower traffic moves when traffic volume is high. This involves a few steps.\n",
    "\n",
    "### 1) Find the data\n",
    "Before you can access the data, you need to find the table name with the data.\n",
    "\n",
    "*Hint*: Tab completion is helpful whenever you can't remember a command. Type `client.` and then hit the tab key. Don't forget the period before hitting tab."
   ]
  },
  {
   "cell_type": "code",
   "execution_count": 3,
   "id": "911c0fb5",
   "metadata": {
    "execution": {
     "iopub.execute_input": "2024-08-23T21:14:03.581162Z",
     "iopub.status.busy": "2024-08-23T21:14:03.580682Z",
     "iopub.status.idle": "2024-08-23T21:14:04.545166Z",
     "shell.execute_reply": "2024-08-23T21:14:04.543791Z"
    },
    "papermill": {
     "duration": 0.978831,
     "end_time": "2024-08-23T21:14:04.547889",
     "exception": false,
     "start_time": "2024-08-23T21:14:03.569058",
     "status": "completed"
    },
    "tags": []
   },
   "outputs": [
    {
     "name": "stdout",
     "output_type": "stream",
     "text": [
      "taxi_trips\n"
     ]
    }
   ],
   "source": [
    "# Explore the dataset to find the table name\n",
    "tables = list(client.list_tables(dataset))\n",
    "for table in tables:\n",
    "    print(table.table_id)"
   ]
  },
  {
   "cell_type": "code",
   "execution_count": 4,
   "id": "e1de8784",
   "metadata": {
    "execution": {
     "iopub.execute_input": "2024-08-23T21:14:04.570367Z",
     "iopub.status.busy": "2024-08-23T21:14:04.569922Z",
     "iopub.status.idle": "2024-08-23T21:14:04.580935Z",
     "shell.execute_reply": "2024-08-23T21:14:04.579884Z"
    },
    "papermill": {
     "duration": 0.025372,
     "end_time": "2024-08-23T21:14:04.583502",
     "exception": false,
     "start_time": "2024-08-23T21:14:04.558130",
     "status": "completed"
    },
    "tags": []
   },
   "outputs": [
    {
     "data": {
      "application/javascript": [
       "parent.postMessage({\"jupyterEvent\": \"custom.exercise_interaction\", \"data\": {\"outcomeType\": 1, \"valueTowardsCompletion\": 0.16666666666666666, \"interactionType\": 1, \"questionType\": 1, \"questionId\": \"1_GetTableName\", \"learnToolsVersion\": \"0.3.4\", \"failureMessage\": \"\", \"exceptionClass\": \"\", \"trace\": \"\"}}, \"*\")"
      ],
      "text/plain": [
       "<IPython.core.display.Javascript object>"
      ]
     },
     "metadata": {},
     "output_type": "display_data"
    },
    {
     "data": {
      "text/markdown": [
       "<span style=\"color:#33cc33\">Correct</span>"
      ],
      "text/plain": [
       "Correct"
      ]
     },
     "metadata": {},
     "output_type": "display_data"
    }
   ],
   "source": [
    "# Write the table name as a string below\n",
    "table_name = 'taxi_trips'\n",
    "\n",
    "# Check your answer\n",
    "q_1.check()"
   ]
  },
  {
   "cell_type": "markdown",
   "id": "2e806a32",
   "metadata": {
    "papermill": {
     "duration": 0.010607,
     "end_time": "2024-08-23T21:14:04.604848",
     "exception": false,
     "start_time": "2024-08-23T21:14:04.594241",
     "status": "completed"
    },
    "tags": []
   },
   "source": [
    "For the solution, uncomment the line below."
   ]
  },
  {
   "cell_type": "code",
   "execution_count": 5,
   "id": "63303188",
   "metadata": {
    "execution": {
     "iopub.execute_input": "2024-08-23T21:14:04.627955Z",
     "iopub.status.busy": "2024-08-23T21:14:04.627433Z",
     "iopub.status.idle": "2024-08-23T21:14:04.632753Z",
     "shell.execute_reply": "2024-08-23T21:14:04.631709Z"
    },
    "papermill": {
     "duration": 0.019524,
     "end_time": "2024-08-23T21:14:04.635018",
     "exception": false,
     "start_time": "2024-08-23T21:14:04.615494",
     "status": "completed"
    },
    "tags": []
   },
   "outputs": [],
   "source": [
    "#q_1.solution()"
   ]
  },
  {
   "cell_type": "markdown",
   "id": "8b4474b6",
   "metadata": {
    "papermill": {
     "duration": 0.010913,
     "end_time": "2024-08-23T21:14:04.657054",
     "exception": false,
     "start_time": "2024-08-23T21:14:04.646141",
     "status": "completed"
    },
    "tags": []
   },
   "source": [
    "### 2) Peek at the data\n",
    "\n",
    "Use the next code cell to peek at the top few rows of the data. Inspect the data and see if any issues with data quality are immediately obvious. "
   ]
  },
  {
   "cell_type": "code",
   "execution_count": 6,
   "id": "24861369",
   "metadata": {
    "execution": {
     "iopub.execute_input": "2024-08-23T21:14:04.680467Z",
     "iopub.status.busy": "2024-08-23T21:14:04.680044Z",
     "iopub.status.idle": "2024-08-23T21:14:05.118904Z",
     "shell.execute_reply": "2024-08-23T21:14:05.117830Z"
    },
    "papermill": {
     "duration": 0.453793,
     "end_time": "2024-08-23T21:14:05.121827",
     "exception": false,
     "start_time": "2024-08-23T21:14:04.668034",
     "status": "completed"
    },
    "tags": []
   },
   "outputs": [],
   "source": [
    "# Create a reference to the table\n",
    "table_ref = dataset_ref.table(\"taxi_trips\")\n",
    "\n",
    "# API request - retriebe the table\n",
    "taxi_table = client.get_table(table_ref)\n"
   ]
  },
  {
   "cell_type": "code",
   "execution_count": 7,
   "id": "8a7092d2",
   "metadata": {
    "execution": {
     "iopub.execute_input": "2024-08-23T21:14:05.144992Z",
     "iopub.status.busy": "2024-08-23T21:14:05.144548Z",
     "iopub.status.idle": "2024-08-23T21:14:05.152845Z",
     "shell.execute_reply": "2024-08-23T21:14:05.151693Z"
    },
    "papermill": {
     "duration": 0.022432,
     "end_time": "2024-08-23T21:14:05.155107",
     "exception": false,
     "start_time": "2024-08-23T21:14:05.132675",
     "status": "completed"
    },
    "tags": []
   },
   "outputs": [
    {
     "data": {
      "text/plain": [
       "[SchemaField('unique_key', 'STRING', 'REQUIRED', 'Unique identifier for the trip.', (), None),\n",
       " SchemaField('taxi_id', 'STRING', 'REQUIRED', 'A unique identifier for the taxi.', (), None),\n",
       " SchemaField('trip_start_timestamp', 'TIMESTAMP', 'NULLABLE', 'When the trip started, rounded to the nearest 15 minutes.', (), None),\n",
       " SchemaField('trip_end_timestamp', 'TIMESTAMP', 'NULLABLE', 'When the trip ended, rounded to the nearest 15 minutes.', (), None),\n",
       " SchemaField('trip_seconds', 'INTEGER', 'NULLABLE', 'Time of the trip in seconds.', (), None),\n",
       " SchemaField('trip_miles', 'FLOAT', 'NULLABLE', 'Distance of the trip in miles.', (), None),\n",
       " SchemaField('pickup_census_tract', 'INTEGER', 'NULLABLE', 'The Census Tract where the trip began. For privacy, this Census Tract is not shown for some trips.', (), None),\n",
       " SchemaField('dropoff_census_tract', 'INTEGER', 'NULLABLE', 'The Census Tract where the trip ended. For privacy, this Census Tract is not shown for some trips.', (), None),\n",
       " SchemaField('pickup_community_area', 'INTEGER', 'NULLABLE', 'The Community Area where the trip began.', (), None),\n",
       " SchemaField('dropoff_community_area', 'INTEGER', 'NULLABLE', 'The Community Area where the trip ended.', (), None),\n",
       " SchemaField('fare', 'FLOAT', 'NULLABLE', 'The fare for the trip.', (), None),\n",
       " SchemaField('tips', 'FLOAT', 'NULLABLE', 'The tip for the trip. Cash tips generally will not be recorded.', (), None),\n",
       " SchemaField('tolls', 'FLOAT', 'NULLABLE', 'The tolls for the trip.', (), None),\n",
       " SchemaField('extras', 'FLOAT', 'NULLABLE', 'Extra charges for the trip.', (), None),\n",
       " SchemaField('trip_total', 'FLOAT', 'NULLABLE', 'Total cost of the trip, the total of the fare, tips, tolls, and extras.', (), None),\n",
       " SchemaField('payment_type', 'STRING', 'NULLABLE', 'Type of payment for the trip.', (), None),\n",
       " SchemaField('company', 'STRING', 'NULLABLE', 'The taxi company.', (), None),\n",
       " SchemaField('pickup_latitude', 'FLOAT', 'NULLABLE', 'The latitude of the center of the pickup census tract or the community area if the census tract has been hidden for privacy.', (), None),\n",
       " SchemaField('pickup_longitude', 'FLOAT', 'NULLABLE', 'The longitude of the center of the pickup census tract or the community area if the census tract has been hidden for privacy.', (), None),\n",
       " SchemaField('pickup_location', 'STRING', 'NULLABLE', 'The location of the center of the pickup census tract or the community area if the census tract has been hidden for privacy.', (), None),\n",
       " SchemaField('dropoff_latitude', 'FLOAT', 'NULLABLE', 'The latitude of the center of the dropoff census tract or the community area if the census tract has been hidden for privacy.', (), None),\n",
       " SchemaField('dropoff_longitude', 'FLOAT', 'NULLABLE', 'The longitude of the center of the dropoff census tract or the community area if the census tract has been hidden for privacy.', (), None),\n",
       " SchemaField('dropoff_location', 'STRING', 'NULLABLE', 'The location of the center of the dropoff census tract or the community area if the census tract has been hidden for privacy.', (), None)]"
      ]
     },
     "execution_count": 7,
     "metadata": {},
     "output_type": "execute_result"
    }
   ],
   "source": [
    "# Print the schema\n",
    "taxi_table.schema"
   ]
  },
  {
   "cell_type": "code",
   "execution_count": 8,
   "id": "50a308fb",
   "metadata": {
    "execution": {
     "iopub.execute_input": "2024-08-23T21:14:05.178911Z",
     "iopub.status.busy": "2024-08-23T21:14:05.178374Z",
     "iopub.status.idle": "2024-08-23T21:14:06.522024Z",
     "shell.execute_reply": "2024-08-23T21:14:06.521000Z"
    },
    "papermill": {
     "duration": 1.358769,
     "end_time": "2024-08-23T21:14:06.524678",
     "exception": false,
     "start_time": "2024-08-23T21:14:05.165909",
     "status": "completed"
    },
    "tags": []
   },
   "outputs": [
    {
     "data": {
      "text/html": [
       "<div>\n",
       "<style scoped>\n",
       "    .dataframe tbody tr th:only-of-type {\n",
       "        vertical-align: middle;\n",
       "    }\n",
       "\n",
       "    .dataframe tbody tr th {\n",
       "        vertical-align: top;\n",
       "    }\n",
       "\n",
       "    .dataframe thead th {\n",
       "        text-align: right;\n",
       "    }\n",
       "</style>\n",
       "<table border=\"1\" class=\"dataframe\">\n",
       "  <thead>\n",
       "    <tr style=\"text-align: right;\">\n",
       "      <th></th>\n",
       "      <th>unique_key</th>\n",
       "      <th>taxi_id</th>\n",
       "      <th>trip_start_timestamp</th>\n",
       "      <th>trip_end_timestamp</th>\n",
       "      <th>trip_seconds</th>\n",
       "      <th>trip_miles</th>\n",
       "      <th>pickup_census_tract</th>\n",
       "      <th>dropoff_census_tract</th>\n",
       "      <th>pickup_community_area</th>\n",
       "      <th>dropoff_community_area</th>\n",
       "      <th>...</th>\n",
       "      <th>extras</th>\n",
       "      <th>trip_total</th>\n",
       "      <th>payment_type</th>\n",
       "      <th>company</th>\n",
       "      <th>pickup_latitude</th>\n",
       "      <th>pickup_longitude</th>\n",
       "      <th>pickup_location</th>\n",
       "      <th>dropoff_latitude</th>\n",
       "      <th>dropoff_longitude</th>\n",
       "      <th>dropoff_location</th>\n",
       "    </tr>\n",
       "  </thead>\n",
       "  <tbody>\n",
       "    <tr>\n",
       "      <th>0</th>\n",
       "      <td>5003bdd51918a9b5a52134096663b4d7e02395c5</td>\n",
       "      <td>2130bc5fd239a4e3b304662424fb4cc7db0ca7abf78cc5...</td>\n",
       "      <td>2013-02-25 14:15:00+00:00</td>\n",
       "      <td>2013-02-25 14:15:00+00:00</td>\n",
       "      <td>120</td>\n",
       "      <td>0.00</td>\n",
       "      <td>NaN</td>\n",
       "      <td>NaN</td>\n",
       "      <td>NaN</td>\n",
       "      <td>NaN</td>\n",
       "      <td>...</td>\n",
       "      <td>NaN</td>\n",
       "      <td>NaN</td>\n",
       "      <td>Cash</td>\n",
       "      <td>None</td>\n",
       "      <td>NaN</td>\n",
       "      <td>NaN</td>\n",
       "      <td>None</td>\n",
       "      <td>NaN</td>\n",
       "      <td>NaN</td>\n",
       "      <td>None</td>\n",
       "    </tr>\n",
       "    <tr>\n",
       "      <th>1</th>\n",
       "      <td>720534d264001b2644f682755b294067fdf1da21</td>\n",
       "      <td>4bb55b69e710d1792f5fd4888001f4ff0ce34040f976f8...</td>\n",
       "      <td>2013-06-02 08:15:00+00:00</td>\n",
       "      <td>2013-06-02 08:15:00+00:00</td>\n",
       "      <td>60</td>\n",
       "      <td>0.02</td>\n",
       "      <td>NaN</td>\n",
       "      <td>NaN</td>\n",
       "      <td>NaN</td>\n",
       "      <td>NaN</td>\n",
       "      <td>...</td>\n",
       "      <td>NaN</td>\n",
       "      <td>NaN</td>\n",
       "      <td>Cash</td>\n",
       "      <td>None</td>\n",
       "      <td>NaN</td>\n",
       "      <td>NaN</td>\n",
       "      <td>None</td>\n",
       "      <td>NaN</td>\n",
       "      <td>NaN</td>\n",
       "      <td>None</td>\n",
       "    </tr>\n",
       "    <tr>\n",
       "      <th>2</th>\n",
       "      <td>515b9a6d5234a4d1fb559dca27b3e1cc541a342d</td>\n",
       "      <td>4bb55b69e710d1792f5fd4888001f4ff0ce34040f976f8...</td>\n",
       "      <td>2013-06-24 06:15:00+00:00</td>\n",
       "      <td>2013-06-24 06:15:00+00:00</td>\n",
       "      <td>60</td>\n",
       "      <td>0.04</td>\n",
       "      <td>NaN</td>\n",
       "      <td>NaN</td>\n",
       "      <td>1.0</td>\n",
       "      <td>77.0</td>\n",
       "      <td>...</td>\n",
       "      <td>NaN</td>\n",
       "      <td>NaN</td>\n",
       "      <td>Cash</td>\n",
       "      <td>None</td>\n",
       "      <td>42.009623</td>\n",
       "      <td>-87.670167</td>\n",
       "      <td>POINT (-87.67016685690001 42.0096228806)</td>\n",
       "      <td>41.986712</td>\n",
       "      <td>-87.663416</td>\n",
       "      <td>POINT (-87.6634164054 41.9867117999)</td>\n",
       "    </tr>\n",
       "    <tr>\n",
       "      <th>3</th>\n",
       "      <td>e2d6896992e694e37edf480b4fe1e369dd11b994</td>\n",
       "      <td>6bc3520aa3e5055fdd502ad4db2b419e40a2579182d817...</td>\n",
       "      <td>2013-01-05 18:00:00+00:00</td>\n",
       "      <td>2013-01-06 00:00:00+00:00</td>\n",
       "      <td>21720</td>\n",
       "      <td>0.00</td>\n",
       "      <td>NaN</td>\n",
       "      <td>NaN</td>\n",
       "      <td>NaN</td>\n",
       "      <td>NaN</td>\n",
       "      <td>...</td>\n",
       "      <td>0.0</td>\n",
       "      <td>0.0</td>\n",
       "      <td>Cash</td>\n",
       "      <td>None</td>\n",
       "      <td>NaN</td>\n",
       "      <td>NaN</td>\n",
       "      <td>None</td>\n",
       "      <td>NaN</td>\n",
       "      <td>NaN</td>\n",
       "      <td>None</td>\n",
       "    </tr>\n",
       "    <tr>\n",
       "      <th>4</th>\n",
       "      <td>4b436b1aca424b5c52d4978f41bac998dca4ea9c</td>\n",
       "      <td>caf7da0faf0f60ee3dbb5994dac981e5d9836907007435...</td>\n",
       "      <td>2013-02-09 19:15:00+00:00</td>\n",
       "      <td>2013-02-10 00:00:00+00:00</td>\n",
       "      <td>17520</td>\n",
       "      <td>0.00</td>\n",
       "      <td>NaN</td>\n",
       "      <td>NaN</td>\n",
       "      <td>NaN</td>\n",
       "      <td>NaN</td>\n",
       "      <td>...</td>\n",
       "      <td>0.0</td>\n",
       "      <td>0.0</td>\n",
       "      <td>Cash</td>\n",
       "      <td>None</td>\n",
       "      <td>NaN</td>\n",
       "      <td>NaN</td>\n",
       "      <td>None</td>\n",
       "      <td>NaN</td>\n",
       "      <td>NaN</td>\n",
       "      <td>None</td>\n",
       "    </tr>\n",
       "  </tbody>\n",
       "</table>\n",
       "<p>5 rows × 23 columns</p>\n",
       "</div>"
      ],
      "text/plain": [
       "                                 unique_key  \\\n",
       "0  5003bdd51918a9b5a52134096663b4d7e02395c5   \n",
       "1  720534d264001b2644f682755b294067fdf1da21   \n",
       "2  515b9a6d5234a4d1fb559dca27b3e1cc541a342d   \n",
       "3  e2d6896992e694e37edf480b4fe1e369dd11b994   \n",
       "4  4b436b1aca424b5c52d4978f41bac998dca4ea9c   \n",
       "\n",
       "                                             taxi_id  \\\n",
       "0  2130bc5fd239a4e3b304662424fb4cc7db0ca7abf78cc5...   \n",
       "1  4bb55b69e710d1792f5fd4888001f4ff0ce34040f976f8...   \n",
       "2  4bb55b69e710d1792f5fd4888001f4ff0ce34040f976f8...   \n",
       "3  6bc3520aa3e5055fdd502ad4db2b419e40a2579182d817...   \n",
       "4  caf7da0faf0f60ee3dbb5994dac981e5d9836907007435...   \n",
       "\n",
       "       trip_start_timestamp        trip_end_timestamp  trip_seconds  \\\n",
       "0 2013-02-25 14:15:00+00:00 2013-02-25 14:15:00+00:00           120   \n",
       "1 2013-06-02 08:15:00+00:00 2013-06-02 08:15:00+00:00            60   \n",
       "2 2013-06-24 06:15:00+00:00 2013-06-24 06:15:00+00:00            60   \n",
       "3 2013-01-05 18:00:00+00:00 2013-01-06 00:00:00+00:00         21720   \n",
       "4 2013-02-09 19:15:00+00:00 2013-02-10 00:00:00+00:00         17520   \n",
       "\n",
       "   trip_miles  pickup_census_tract  dropoff_census_tract  \\\n",
       "0        0.00                  NaN                   NaN   \n",
       "1        0.02                  NaN                   NaN   \n",
       "2        0.04                  NaN                   NaN   \n",
       "3        0.00                  NaN                   NaN   \n",
       "4        0.00                  NaN                   NaN   \n",
       "\n",
       "   pickup_community_area  dropoff_community_area  ...  extras  trip_total  \\\n",
       "0                    NaN                     NaN  ...     NaN         NaN   \n",
       "1                    NaN                     NaN  ...     NaN         NaN   \n",
       "2                    1.0                    77.0  ...     NaN         NaN   \n",
       "3                    NaN                     NaN  ...     0.0         0.0   \n",
       "4                    NaN                     NaN  ...     0.0         0.0   \n",
       "\n",
       "   payment_type  company  pickup_latitude pickup_longitude  \\\n",
       "0          Cash     None              NaN              NaN   \n",
       "1          Cash     None              NaN              NaN   \n",
       "2          Cash     None        42.009623       -87.670167   \n",
       "3          Cash     None              NaN              NaN   \n",
       "4          Cash     None              NaN              NaN   \n",
       "\n",
       "                            pickup_location  dropoff_latitude  \\\n",
       "0                                      None               NaN   \n",
       "1                                      None               NaN   \n",
       "2  POINT (-87.67016685690001 42.0096228806)         41.986712   \n",
       "3                                      None               NaN   \n",
       "4                                      None               NaN   \n",
       "\n",
       "   dropoff_longitude                      dropoff_location  \n",
       "0                NaN                                  None  \n",
       "1                NaN                                  None  \n",
       "2         -87.663416  POINT (-87.6634164054 41.9867117999)  \n",
       "3                NaN                                  None  \n",
       "4                NaN                                  None  \n",
       "\n",
       "[5 rows x 23 columns]"
      ]
     },
     "execution_count": 8,
     "metadata": {},
     "output_type": "execute_result"
    }
   ],
   "source": [
    "# Preview the first five rows of the table\n",
    "client.list_rows(taxi_table, max_results=5).to_dataframe()"
   ]
  },
  {
   "cell_type": "markdown",
   "id": "37929db0",
   "metadata": {
    "papermill": {
     "duration": 0.011006,
     "end_time": "2024-08-23T21:14:06.546873",
     "exception": false,
     "start_time": "2024-08-23T21:14:06.535867",
     "status": "completed"
    },
    "tags": []
   },
   "source": [
    "Identified problem: first, I noticed that some of the trips were listed as 0 miles, even if there was a value for seconds. I realized this was due to 'None' or 'NaN' values in multiple columns, such as pick-up and drop-off locations. This could be a problem if we wish to use those fields."
   ]
  },
  {
   "cell_type": "markdown",
   "id": "ed3a7606",
   "metadata": {
    "papermill": {
     "duration": 0.011109,
     "end_time": "2024-08-23T21:14:06.569696",
     "exception": false,
     "start_time": "2024-08-23T21:14:06.558587",
     "status": "completed"
    },
    "tags": []
   },
   "source": [
    "After deciding whether you see any important issues, run the code cell below."
   ]
  },
  {
   "cell_type": "code",
   "execution_count": 9,
   "id": "0cb309e2",
   "metadata": {
    "execution": {
     "iopub.execute_input": "2024-08-23T21:14:06.593978Z",
     "iopub.status.busy": "2024-08-23T21:14:06.593504Z",
     "iopub.status.idle": "2024-08-23T21:14:06.604824Z",
     "shell.execute_reply": "2024-08-23T21:14:06.603688Z"
    },
    "papermill": {
     "duration": 0.026386,
     "end_time": "2024-08-23T21:14:06.607301",
     "exception": false,
     "start_time": "2024-08-23T21:14:06.580915",
     "status": "completed"
    },
    "tags": []
   },
   "outputs": [
    {
     "data": {
      "application/javascript": [
       "parent.postMessage({\"jupyterEvent\": \"custom.exercise_interaction\", \"data\": {\"interactionType\": 3, \"questionType\": 4, \"questionId\": \"2_WhatsWrongWithData\", \"learnToolsVersion\": \"0.3.4\", \"valueTowardsCompletion\": 0.0, \"failureMessage\": \"\", \"exceptionClass\": \"\", \"trace\": \"\", \"outcomeType\": 4}}, \"*\")"
      ],
      "text/plain": [
       "<IPython.core.display.Javascript object>"
      ]
     },
     "metadata": {},
     "output_type": "display_data"
    },
    {
     "data": {
      "text/markdown": [
       "<span style=\"color:#33cc99\">Solution:</span> \n",
       "You can see the data by calling: \n",
       "```python\n",
       "# Construct a reference to the \"taxi_trips\" table\n",
       "table_ref = dataset_ref.table(\"taxi_trips\")\n",
       "\n",
       "# API request - fetch the table\n",
       "table = client.get_table(table_ref)\n",
       "\n",
       "# Preview the first five lines of the \"taxi_trips\" table\n",
       "client.list_rows(table, max_results=5).to_dataframe()\n",
       "```\n",
       "\n",
       "Some location fields have values of `None` or `NaN`. That is a problem if we want to use those fields.\n"
      ],
      "text/plain": [
       "Solution: \n",
       "You can see the data by calling: \n",
       "```python\n",
       "# Construct a reference to the \"taxi_trips\" table\n",
       "table_ref = dataset_ref.table(\"taxi_trips\")\n",
       "\n",
       "# API request - fetch the table\n",
       "table = client.get_table(table_ref)\n",
       "\n",
       "# Preview the first five lines of the \"taxi_trips\" table\n",
       "client.list_rows(table, max_results=5).to_dataframe()\n",
       "```\n",
       "\n",
       "Some location fields have values of `None` or `NaN`. That is a problem if we want to use those fields."
      ]
     },
     "metadata": {},
     "output_type": "display_data"
    }
   ],
   "source": [
    "# Check your answer (Run this code cell to receive credit!)\n",
    "q_2.solution()"
   ]
  },
  {
   "cell_type": "markdown",
   "id": "884622a0",
   "metadata": {
    "papermill": {
     "duration": 0.011185,
     "end_time": "2024-08-23T21:14:06.630016",
     "exception": false,
     "start_time": "2024-08-23T21:14:06.618831",
     "status": "completed"
    },
    "tags": []
   },
   "source": [
    "### 3) Determine when this data is from\n",
    "\n",
    "If the data is sufficiently old, we might be careful before assuming the data is still relevant to traffic patterns today. Write a query that counts the number of trips in each year.  \n",
    "\n",
    "Your results should have two columns:\n",
    "- `year` - the year of the trips\n",
    "- `num_trips` - the number of trips in that year\n",
    "\n",
    "Hints:\n",
    "- When using **GROUP BY** and **ORDER BY**, you should refer to the columns by the alias `year` that you set at the top of the **SELECT** query.\n",
    "- The SQL code to **SELECT** the year from `trip_start_timestamp` is <code>SELECT EXTRACT(YEAR FROM trip_start_timestamp)</code>\n",
    "- The **FROM** field can be a little tricky until you are used to it.  The format is:\n",
    "    1. A backick (the symbol \\`).\n",
    "    2. The project name. In this case it is `bigquery-public-data`.\n",
    "    3. A period.\n",
    "    4. The dataset name. In this case, it is `chicago_taxi_trips`.\n",
    "    5. A period.\n",
    "    6. The table name. You used this as your answer in **1) Find the data**.\n",
    "    7. A backtick (the symbol \\`)."
   ]
  },
  {
   "cell_type": "code",
   "execution_count": 10,
   "id": "dc5bdafe",
   "metadata": {
    "execution": {
     "iopub.execute_input": "2024-08-23T21:14:06.656897Z",
     "iopub.status.busy": "2024-08-23T21:14:06.656435Z",
     "iopub.status.idle": "2024-08-23T21:14:08.717156Z",
     "shell.execute_reply": "2024-08-23T21:14:08.716031Z"
    },
    "papermill": {
     "duration": 2.077088,
     "end_time": "2024-08-23T21:14:08.719653",
     "exception": false,
     "start_time": "2024-08-23T21:14:06.642565",
     "status": "completed"
    },
    "tags": []
   },
   "outputs": [
    {
     "name": "stdout",
     "output_type": "stream",
     "text": [
      "    year  num_trips\n",
      "0   2013   27217300\n",
      "1   2014   37395079\n",
      "2   2015   32385527\n",
      "3   2016   31756403\n",
      "4   2017   24979611\n",
      "5   2018   20731105\n",
      "6   2019   16476440\n",
      "7   2020    3888831\n",
      "8   2021    3947677\n",
      "9   2022    6382071\n",
      "10  2023    6495415\n"
     ]
    },
    {
     "data": {
      "application/javascript": [
       "parent.postMessage({\"jupyterEvent\": \"custom.exercise_interaction\", \"data\": {\"outcomeType\": 1, \"valueTowardsCompletion\": 0.16666666666666666, \"interactionType\": 1, \"questionType\": 2, \"questionId\": \"3_YearDistrib\", \"learnToolsVersion\": \"0.3.4\", \"failureMessage\": \"\", \"exceptionClass\": \"\", \"trace\": \"\"}}, \"*\")"
      ],
      "text/plain": [
       "<IPython.core.display.Javascript object>"
      ]
     },
     "metadata": {},
     "output_type": "display_data"
    },
    {
     "data": {
      "text/markdown": [
       "<span style=\"color:#33cc33\">Correct</span>"
      ],
      "text/plain": [
       "Correct"
      ]
     },
     "metadata": {},
     "output_type": "display_data"
    }
   ],
   "source": [
    "# Find the number of trips in each year\n",
    "# Need: year column (year trip was taken) and num_trips column (the number of trips in that year)\n",
    "rides_per_year_query = \"\"\"\n",
    "                        SELECT EXTRACT(YEAR FROM trip_start_timestamp) AS year, \n",
    "                            COUNT(*) AS num_trips\n",
    "                        FROM `bigquery-public-data.chicago_taxi_trips.taxi_trips`\n",
    "                        GROUP BY year\n",
    "                        ORDER BY year \n",
    "                        \"\"\"\n",
    "\n",
    "# Set up the query (cancel the query if it would use too much of \n",
    "# your quota)\n",
    "safe_config = bigquery.QueryJobConfig(maximum_bytes_billed=10**10)\n",
    "rides_per_year_query_job = client.query(rides_per_year_query, job_config=safe_config)\n",
    "\n",
    "# API request - run the query, and return a pandas DataFrame\n",
    "rides_per_year_result = rides_per_year_query_job.to_dataframe()\n",
    "\n",
    "# View results\n",
    "print(rides_per_year_result)\n",
    "\n",
    "# Check your answer\n",
    "q_3.check()"
   ]
  },
  {
   "cell_type": "markdown",
   "id": "a6c5289e",
   "metadata": {
    "papermill": {
     "duration": 0.017747,
     "end_time": "2024-08-23T21:14:08.752599",
     "exception": false,
     "start_time": "2024-08-23T21:14:08.734852",
     "status": "completed"
    },
    "tags": []
   },
   "source": [
    "For a hint or the solution, uncomment the appropriate line below."
   ]
  },
  {
   "cell_type": "code",
   "execution_count": 11,
   "id": "3c5319ac",
   "metadata": {
    "execution": {
     "iopub.execute_input": "2024-08-23T21:14:08.788139Z",
     "iopub.status.busy": "2024-08-23T21:14:08.787649Z",
     "iopub.status.idle": "2024-08-23T21:14:08.801888Z",
     "shell.execute_reply": "2024-08-23T21:14:08.800751Z"
    },
    "papermill": {
     "duration": 0.036092,
     "end_time": "2024-08-23T21:14:08.804528",
     "exception": false,
     "start_time": "2024-08-23T21:14:08.768436",
     "status": "completed"
    },
    "tags": []
   },
   "outputs": [
    {
     "data": {
      "application/javascript": [
       "parent.postMessage({\"jupyterEvent\": \"custom.exercise_interaction\", \"data\": {\"interactionType\": 2, \"questionType\": 2, \"questionId\": \"3_YearDistrib\", \"learnToolsVersion\": \"0.3.4\", \"valueTowardsCompletion\": 0.0, \"failureMessage\": \"\", \"exceptionClass\": \"\", \"trace\": \"\", \"outcomeType\": 4}}, \"*\")"
      ],
      "text/plain": [
       "<IPython.core.display.Javascript object>"
      ]
     },
     "metadata": {},
     "output_type": "display_data"
    },
    {
     "data": {
      "text/markdown": [
       "<span style=\"color:#3366cc\">Hint:</span> Start your query with `SELECT EXTRACT(YEAR FROM trip_start_timestamp) AS year, COUNT(1) AS num_trips`."
      ],
      "text/plain": [
       "Hint: Start your query with `SELECT EXTRACT(YEAR FROM trip_start_timestamp) AS year, COUNT(1) AS num_trips`."
      ]
     },
     "metadata": {},
     "output_type": "display_data"
    }
   ],
   "source": [
    "q_3.hint()\n",
    "#q_3.solution()"
   ]
  },
  {
   "cell_type": "markdown",
   "id": "4ac5f7ae",
   "metadata": {
    "papermill": {
     "duration": 0.016143,
     "end_time": "2024-08-23T21:14:08.838971",
     "exception": false,
     "start_time": "2024-08-23T21:14:08.822828",
     "status": "completed"
    },
    "tags": []
   },
   "source": [
    "### 4) Dive slightly deeper\n",
    "\n",
    "You'd like to take a closer look at rides from 2016.  Copy the query you used above in `rides_per_year_query` into the cell below for `rides_per_month_query`.  Then modify it in two ways:\n",
    "1. Use a **WHERE** clause to limit the query to data from 2016.\n",
    "2. Modify the query to extract the month rather than the year."
   ]
  },
  {
   "cell_type": "code",
   "execution_count": 12,
   "id": "e7fdbf6f",
   "metadata": {
    "execution": {
     "iopub.execute_input": "2024-08-23T21:14:08.867011Z",
     "iopub.status.busy": "2024-08-23T21:14:08.866514Z",
     "iopub.status.idle": "2024-08-23T21:14:10.839552Z",
     "shell.execute_reply": "2024-08-23T21:14:10.838331Z"
    },
    "papermill": {
     "duration": 1.990576,
     "end_time": "2024-08-23T21:14:10.842276",
     "exception": false,
     "start_time": "2024-08-23T21:14:08.851700",
     "status": "completed"
    },
    "tags": []
   },
   "outputs": [
    {
     "name": "stdout",
     "output_type": "stream",
     "text": [
      "    month  num_trips\n",
      "0       5    2859147\n",
      "1       4    2854290\n",
      "2       3    2851106\n",
      "3       6    2841872\n",
      "4      10    2725340\n",
      "5       7    2682912\n",
      "6       8    2629482\n",
      "7       2    2568433\n",
      "8       9    2532650\n",
      "9       1    2510389\n",
      "10     11    2387790\n",
      "11     12    2312992\n"
     ]
    },
    {
     "data": {
      "application/javascript": [
       "parent.postMessage({\"jupyterEvent\": \"custom.exercise_interaction\", \"data\": {\"outcomeType\": 1, \"valueTowardsCompletion\": 0.16666666666666666, \"interactionType\": 1, \"questionType\": 2, \"questionId\": \"4_MonthDistrib\", \"learnToolsVersion\": \"0.3.4\", \"failureMessage\": \"\", \"exceptionClass\": \"\", \"trace\": \"\"}}, \"*\")"
      ],
      "text/plain": [
       "<IPython.core.display.Javascript object>"
      ]
     },
     "metadata": {},
     "output_type": "display_data"
    },
    {
     "data": {
      "text/markdown": [
       "<span style=\"color:#33cc33\">Correct</span>"
      ],
      "text/plain": [
       "Correct"
      ]
     },
     "metadata": {},
     "output_type": "display_data"
    }
   ],
   "source": [
    "# Select only the rides from 2016 and look at the month-to-month data \n",
    "rides_per_month_query = \"\"\"\n",
    "                        SELECT EXTRACT(MONTH FROM trip_start_timestamp) AS month, \n",
    "                            COUNT(*) AS num_trips\n",
    "                        FROM `bigquery-public-data.chicago_taxi_trips.taxi_trips`\n",
    "                        WHERE EXTRACT(YEAR FROM trip_start_timestamp) = 2016\n",
    "                        GROUP BY month\n",
    "                        ORDER BY num_trips DESC\n",
    "                        \"\"\" \n",
    "\n",
    "# Set up the query\n",
    "safe_config = bigquery.QueryJobConfig(maximum_bytes_billed=10**10)\n",
    "rides_per_month_query_job = client.query(rides_per_month_query, job_config=safe_config)\n",
    "\n",
    "# API request - run the query, and return a pandas DataFrame\n",
    "rides_per_month_result = rides_per_month_query_job.to_dataframe()\n",
    "\n",
    "# View results\n",
    "print(rides_per_month_result)\n",
    "\n",
    "# Check your answer\n",
    "q_4.check()"
   ]
  },
  {
   "cell_type": "markdown",
   "id": "17aeed97",
   "metadata": {
    "papermill": {
     "duration": 0.012518,
     "end_time": "2024-08-23T21:14:10.867652",
     "exception": false,
     "start_time": "2024-08-23T21:14:10.855134",
     "status": "completed"
    },
    "tags": []
   },
   "source": [
    "For a hint or the solution, uncomment the appropriate line below."
   ]
  },
  {
   "cell_type": "code",
   "execution_count": 13,
   "id": "fc3e8ac4",
   "metadata": {
    "execution": {
     "iopub.execute_input": "2024-08-23T21:14:10.895135Z",
     "iopub.status.busy": "2024-08-23T21:14:10.894665Z",
     "iopub.status.idle": "2024-08-23T21:14:10.899596Z",
     "shell.execute_reply": "2024-08-23T21:14:10.898329Z"
    },
    "papermill": {
     "duration": 0.021631,
     "end_time": "2024-08-23T21:14:10.902181",
     "exception": false,
     "start_time": "2024-08-23T21:14:10.880550",
     "status": "completed"
    },
    "tags": []
   },
   "outputs": [],
   "source": [
    "#q_4.hint()\n",
    "#q_4.solution()"
   ]
  },
  {
   "cell_type": "markdown",
   "id": "4d61c9c8",
   "metadata": {
    "papermill": {
     "duration": 0.013139,
     "end_time": "2024-08-23T21:14:10.928439",
     "exception": false,
     "start_time": "2024-08-23T21:14:10.915300",
     "status": "completed"
    },
    "tags": []
   },
   "source": [
    "### 5) Write the query\n",
    "\n",
    "It's time to step up the sophistication of your queries.  Write a query that shows, for each hour of the day in the dataset, the corresponding number of trips and average speed.\n",
    "\n",
    "Your results should have three columns:\n",
    "- `hour_of_day` - sort by this column, which holds the result of extracting the hour from `trip_start_timestamp`.\n",
    "- `num_trips` - the count of the total number of trips in each hour of the day (e.g. how many trips were started between 6AM and 7AM, independent of which day it occurred on).\n",
    "- `avg_mph` - the average speed, measured in miles per hour, for trips that started in that hour of the day.  Average speed in miles per hour is calculated as `3600 * SUM(trip_miles) / SUM(trip_seconds)`. (The value 3600 is used to convert from seconds to hours.)\n",
    "\n",
    "Restrict your query to data meeting the following criteria:\n",
    "- a `trip_start_timestamp` > **2016-01-01** and < **2016-04-01**\n",
    "- `trip_seconds` > 0 and `trip_miles` > 0\n",
    "\n",
    "You will use a common table expression (CTE) to select just the relevant rides.  Because this dataset is very big, this CTE should select only the columns you'll need to create the final output (though you won't actually create those in the CTE -- instead you'll create those in the later **SELECT** statement below the CTE).\n",
    "\n",
    "This is a much harder query than anything you've written so far.  Good luck!"
   ]
  },
  {
   "cell_type": "code",
   "execution_count": 14,
   "id": "62f60ed5",
   "metadata": {
    "execution": {
     "iopub.execute_input": "2024-08-23T21:14:10.956854Z",
     "iopub.status.busy": "2024-08-23T21:14:10.956394Z",
     "iopub.status.idle": "2024-08-23T21:14:13.032011Z",
     "shell.execute_reply": "2024-08-23T21:14:13.030664Z"
    },
    "papermill": {
     "duration": 2.092427,
     "end_time": "2024-08-23T21:14:13.034318",
     "exception": false,
     "start_time": "2024-08-23T21:14:10.941891",
     "status": "completed"
    },
    "tags": []
   },
   "outputs": [
    {
     "name": "stdout",
     "output_type": "stream",
     "text": [
      "    hour_of_day  num_trips    avg_mph\n",
      "0             0     203092  20.191744\n",
      "1             1     178046  18.628598\n",
      "2             2     143447  18.444370\n",
      "3             3     108899  19.273107\n",
      "4             4      80067  27.599669\n",
      "5             5      75786  33.065604\n",
      "6             6     102254  28.533112\n",
      "7             7     187585  19.884592\n",
      "8             8     284223  16.787900\n",
      "9             9     306854  18.434124\n",
      "10           10     279762  20.091309\n",
      "11           11     294006  20.926340\n",
      "12           12     311522  20.063901\n",
      "13           13     317225  19.766321\n",
      "14           14     312629  19.309655\n",
      "15           15     319953  18.515564\n",
      "16           16     349455  17.168814\n",
      "17           17     394324  14.641375\n",
      "18           18     431991  15.381995\n",
      "19           19     416743  17.795008\n",
      "20           20     356279  20.347398\n",
      "21           21     318363  22.584731\n",
      "22           22     289886  21.129847\n",
      "23           23     241690  20.259757\n"
     ]
    },
    {
     "data": {
      "application/javascript": [
       "parent.postMessage({\"jupyterEvent\": \"custom.exercise_interaction\", \"data\": {\"outcomeType\": 1, \"valueTowardsCompletion\": 0.16666666666666666, \"interactionType\": 1, \"questionType\": 2, \"questionId\": \"5_TheLongQuery\", \"learnToolsVersion\": \"0.3.4\", \"failureMessage\": \"\", \"exceptionClass\": \"\", \"trace\": \"\"}}, \"*\")"
      ],
      "text/plain": [
       "<IPython.core.display.Javascript object>"
      ]
     },
     "metadata": {},
     "output_type": "display_data"
    },
    {
     "data": {
      "text/markdown": [
       "<span style=\"color:#33cc33\">Correct</span>"
      ],
      "text/plain": [
       "Correct"
      ]
     },
     "metadata": {},
     "output_type": "display_data"
    }
   ],
   "source": [
    "# Result will have three columns:\n",
    "# (1) hour_of_day : EXTRACT(HOUR FROM trip_start_timestamp) \n",
    "# (2) num_trips : COUNT(*) \n",
    "# (3) avg_mph : 3600 * (SUM(trip_miles) / SUM(trip_seconds))\n",
    "speeds_query = \"\"\"\n",
    "               WITH RelevantRides AS\n",
    "               (\n",
    "                   SELECT *\n",
    "                   FROM `bigquery-public-data.chicago_taxi_trips.taxi_trips`\n",
    "                   WHERE trip_start_timestamp > '2016-01-01' AND trip_start_timestamp < '2016-04-01'\n",
    "                       AND trip_seconds > 0 AND trip_miles > 0\n",
    "               )\n",
    "               SELECT EXTRACT(HOUR FROM trip_start_timestamp) AS hour_of_day,\n",
    "                   COUNT(*) AS num_trips,\n",
    "                   SUM(trip_miles) / SUM(trip_seconds) * 3600 AS avg_mph\n",
    "               FROM RelevantRides\n",
    "               GROUP BY hour_of_day\n",
    "               ORDER BY hour_of_day\n",
    "               \"\"\"\n",
    "\n",
    "# Set up the query\n",
    "safe_config = bigquery.QueryJobConfig(maximum_bytes_billed=10**10)\n",
    "speeds_query_job = client.query(speeds_query, job_config=safe_config)\n",
    "\n",
    "# API request - run the query, and return a pandas DataFrame\n",
    "speeds_result = speeds_query_job.to_dataframe()\n",
    "\n",
    "# View results\n",
    "print(speeds_result)\n",
    "\n",
    "# Check your answer\n",
    "q_5.check()"
   ]
  },
  {
   "cell_type": "markdown",
   "id": "4501c522",
   "metadata": {
    "papermill": {
     "duration": 0.012936,
     "end_time": "2024-08-23T21:14:13.060752",
     "exception": false,
     "start_time": "2024-08-23T21:14:13.047816",
     "status": "completed"
    },
    "tags": []
   },
   "source": [
    "For the solution, uncomment the appropriate line below."
   ]
  },
  {
   "cell_type": "code",
   "execution_count": 15,
   "id": "24734176",
   "metadata": {
    "execution": {
     "iopub.execute_input": "2024-08-23T21:14:13.089537Z",
     "iopub.status.busy": "2024-08-23T21:14:13.088650Z",
     "iopub.status.idle": "2024-08-23T21:14:13.093883Z",
     "shell.execute_reply": "2024-08-23T21:14:13.092784Z"
    },
    "papermill": {
     "duration": 0.02223,
     "end_time": "2024-08-23T21:14:13.096399",
     "exception": false,
     "start_time": "2024-08-23T21:14:13.074169",
     "status": "completed"
    },
    "tags": []
   },
   "outputs": [],
   "source": [
    "#q_5.solution()"
   ]
  },
  {
   "cell_type": "markdown",
   "id": "cbd55850",
   "metadata": {
    "papermill": {
     "duration": 0.013002,
     "end_time": "2024-08-23T21:14:13.122933",
     "exception": false,
     "start_time": "2024-08-23T21:14:13.109931",
     "status": "completed"
    },
    "tags": []
   },
   "source": [
    "That's a hard query. If you made good progress towards the solution, congratulations!"
   ]
  },
  {
   "cell_type": "markdown",
   "id": "bc8226be",
   "metadata": {
    "papermill": {
     "duration": 0.013013,
     "end_time": "2024-08-23T21:14:13.149491",
     "exception": false,
     "start_time": "2024-08-23T21:14:13.136478",
     "status": "completed"
    },
    "tags": []
   },
   "source": [
    "# Keep going\n",
    "\n",
    "You can write very complex queries now with a single data source. But nothing expands the horizons of SQL as much as the ability to combine or **JOIN** tables.\n",
    "\n",
    "**[Click here](https://www.kaggle.com/dansbecker/joining-data)** to start the last lesson in the Intro to SQL course."
   ]
  },
  {
   "cell_type": "markdown",
   "id": "1571606d",
   "metadata": {
    "papermill": {
     "duration": 0.012955,
     "end_time": "2024-08-23T21:14:13.175794",
     "exception": false,
     "start_time": "2024-08-23T21:14:13.162839",
     "status": "completed"
    },
    "tags": []
   },
   "source": [
    "---\n",
    "\n",
    "\n",
    "\n",
    "\n",
    "*Have questions or comments? Visit the [course discussion forum](https://www.kaggle.com/learn/intro-to-sql/discussion) to chat with other learners.*"
   ]
  }
 ],
 "metadata": {
  "kaggle": {
   "accelerator": "none",
   "dataSources": [
    {
     "datasetId": 22219,
     "sourceId": 28536,
     "sourceType": "datasetVersion"
    },
    {
     "datasetId": 11496,
     "sourceId": 285947,
     "sourceType": "datasetVersion"
    }
   ],
   "isGpuEnabled": false,
   "isInternetEnabled": true,
   "language": "python",
   "sourceType": "notebook"
  },
  "kernelspec": {
   "display_name": "Python 3",
   "language": "python",
   "name": "python3"
  },
  "language_info": {
   "codemirror_mode": {
    "name": "ipython",
    "version": 3
   },
   "file_extension": ".py",
   "mimetype": "text/x-python",
   "name": "python",
   "nbconvert_exporter": "python",
   "pygments_lexer": "ipython3",
   "version": "3.10.14"
  },
  "papermill": {
   "default_parameters": {},
   "duration": 54.920602,
   "end_time": "2024-08-23T21:14:14.011767",
   "environment_variables": {},
   "exception": null,
   "input_path": "__notebook__.ipynb",
   "output_path": "__notebook__.ipynb",
   "parameters": {},
   "start_time": "2024-08-23T21:13:19.091165",
   "version": "2.6.0"
  }
 },
 "nbformat": 4,
 "nbformat_minor": 5
}
